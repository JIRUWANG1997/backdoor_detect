{
  "nbformat": 4,
  "nbformat_minor": 0,
  "metadata": {
    "accelerator": "GPU",
    "colab": {
      "name": "Fine-Pruning",
      "provenance": [],
      "collapsed_sections": [
        "v54R9FcH_UZO",
        "iLux4gkQ6GHn",
        "XzU47pZp_qSL",
        "Z0vg1XyiBI6G",
        "KIWLZUxUYd2m",
        "kPI9xz1VBLXJ",
        "ZPWv4rWbAaHm",
        "e7drt3pZBd7p",
        "_NtoXzYpEJbN",
        "6K6rQeMZEbiC",
        "lAAhdfuNFB56",
        "hIDjDwtVFB6N",
        "WgKLT1xDFkc6",
        "L-f8EqWLF6Ot",
        "HTk_qxfwGtou",
        "bF2yRg6RH4Gm",
        "7gtDee1qH4Gr"
      ]
    },
    "kernelspec": {
      "display_name": "Python 3",
      "name": "python3"
    }
  },
  "cells": [
    {
      "cell_type": "code",
      "metadata": {
        "id": "zN4yVFK5-0Bf",
        "colab": {
          "base_uri": "https://localhost:8080/"
        },
        "outputId": "2f03a39c-c7ee-4fe9-fa04-9ac99a9d32ff"
      },
      "source": [
        "! pip install -q tensorflow-model-optimization"
      ],
      "execution_count": 2,
      "outputs": [
        {
          "output_type": "stream",
          "text": [
            "\u001b[?25l\r\u001b[K     |██                              | 10kB 29.6MB/s eta 0:00:01\r\u001b[K     |███▉                            | 20kB 33.2MB/s eta 0:00:01\r\u001b[K     |█████▊                          | 30kB 35.4MB/s eta 0:00:01\r\u001b[K     |███████▋                        | 40kB 36.6MB/s eta 0:00:01\r\u001b[K     |█████████▌                      | 51kB 32.8MB/s eta 0:00:01\r\u001b[K     |███████████▍                    | 61kB 35.2MB/s eta 0:00:01\r\u001b[K     |█████████████▎                  | 71kB 25.9MB/s eta 0:00:01\r\u001b[K     |███████████████▏                | 81kB 22.2MB/s eta 0:00:01\r\u001b[K     |█████████████████               | 92kB 23.5MB/s eta 0:00:01\r\u001b[K     |███████████████████             | 102kB 22.5MB/s eta 0:00:01\r\u001b[K     |████████████████████▉           | 112kB 22.5MB/s eta 0:00:01\r\u001b[K     |██████████████████████▊         | 122kB 22.5MB/s eta 0:00:01\r\u001b[K     |████████████████████████▊       | 133kB 22.5MB/s eta 0:00:01\r\u001b[K     |██████████████████████████▋     | 143kB 22.5MB/s eta 0:00:01\r\u001b[K     |████████████████████████████▌   | 153kB 22.5MB/s eta 0:00:01\r\u001b[K     |██████████████████████████████▍ | 163kB 22.5MB/s eta 0:00:01\r\u001b[K     |████████████████████████████████| 174kB 22.5MB/s \n",
            "\u001b[?25h"
          ],
          "name": "stdout"
        }
      ]
    },
    {
      "cell_type": "code",
      "metadata": {
        "id": "yJwIonXEVJo6"
      },
      "source": [
        "import tempfile\n",
        "import os\n",
        "\n",
        "import tensorflow as tf\n",
        "import numpy as np\n",
        "\n",
        "from tensorflow import keras\n",
        "\n",
        "%load_ext tensorboard\n",
        "import keras\n",
        "import sys\n",
        "import h5py\n",
        "import numpy as np\n",
        "from keras.losses import categorical_crossentropy\n",
        "from keras.optimizers import Adam\n",
        "from keras.utils.vis_utils import plot_model\n",
        "from sklearn.model_selection import train_test_split\n",
        "import tensorflow as tf"
      ],
      "execution_count": 3,
      "outputs": []
    },
    {
      "cell_type": "code",
      "metadata": {
        "colab": {
          "base_uri": "https://localhost:8080/"
        },
        "id": "IVfIPslcs-0X",
        "outputId": "dc2aa767-664e-4de5-b689-9749147f3006"
      },
      "source": [
        "!apt-get install -y -qq software-properties-common python-software-properties module-init-tools\r\n",
        "!add-apt-repository -y ppa:alessandro-strada/ppa 2>&1 > /dev/null\r\n",
        "!apt-get update -qq 2>&1 > /dev/null\r\n",
        "!apt-get -y install -qq google-drive-ocamlfuse fuse\r\n",
        "from google.colab import auth\r\n",
        "auth.authenticate_user()\r\n",
        "from oauth2client.client import GoogleCredentials\r\n",
        "creds = GoogleCredentials.get_application_default()\r\n",
        "import getpass\r\n",
        "!google-drive-ocamlfuse -headless -id={creds.client_id} -secret={creds.client_secret} < /dev/null 2>&1 | grep URL\r\n",
        "vcode = getpass.getpass()\r\n",
        "!echo {vcode} | google-drive-ocamlfuse -headless -id={creds.client_id} -secret={creds.client_secret}"
      ],
      "execution_count": 4,
      "outputs": [
        {
          "output_type": "stream",
          "text": [
            "E: Package 'python-software-properties' has no installation candidate\n",
            "Selecting previously unselected package google-drive-ocamlfuse.\n",
            "(Reading database ... 144865 files and directories currently installed.)\n",
            "Preparing to unpack .../google-drive-ocamlfuse_0.7.23-0ubuntu1~ubuntu18.04.1_amd64.deb ...\n",
            "Unpacking google-drive-ocamlfuse (0.7.23-0ubuntu1~ubuntu18.04.1) ...\n",
            "Setting up google-drive-ocamlfuse (0.7.23-0ubuntu1~ubuntu18.04.1) ...\n",
            "Processing triggers for man-db (2.8.3-2ubuntu0.1) ...\n",
            "Please, open the following URL in a web browser: https://accounts.google.com/o/oauth2/auth?client_id=32555940559.apps.googleusercontent.com&redirect_uri=urn%3Aietf%3Awg%3Aoauth%3A2.0%3Aoob&scope=https%3A%2F%2Fwww.googleapis.com%2Fauth%2Fdrive&response_type=code&access_type=offline&approval_prompt=force\n",
            "··········\n",
            "Please, open the following URL in a web browser: https://accounts.google.com/o/oauth2/auth?client_id=32555940559.apps.googleusercontent.com&redirect_uri=urn%3Aietf%3Awg%3Aoauth%3A2.0%3Aoob&scope=https%3A%2F%2Fwww.googleapis.com%2Fauth%2Fdrive&response_type=code&access_type=offline&approval_prompt=force\n",
            "Please enter the verification code: Access token retrieved correctly.\n"
          ],
          "name": "stdout"
        }
      ]
    },
    {
      "cell_type": "code",
      "metadata": {
        "id": "3Lc8Ugb9tMjE"
      },
      "source": [
        "!mkdir -p drive\r\n",
        "!google-drive-ocamlfuse drive \r\n",
        "import os\r\n",
        "os.chdir(\"/content/drive/MLsecurity_project\") "
      ],
      "execution_count": 5,
      "outputs": []
    },
    {
      "cell_type": "code",
      "metadata": {
        "id": "bHb2jv6ktWaE"
      },
      "source": [
        "pip install -q tensorflow-model-optimization"
      ],
      "execution_count": 6,
      "outputs": []
    },
    {
      "cell_type": "markdown",
      "metadata": {
        "id": "v54R9FcH_UZO"
      },
      "source": [
        "# BadNet1: Sunglasses_BD_NET"
      ]
    },
    {
      "cell_type": "code",
      "metadata": {
        "id": "iC4YLkKGtpyI"
      },
      "source": [
        "SunModel = keras.models.load_model(\"/content/drive/MLsecurity_project/models/sunglasses_bd_net.h5\")\r\n",
        "def data_loader(filepath):\r\n",
        "    data = h5py.File(filepath, 'r')\r\n",
        "    x_data = np.array(data['data']).astype(np.float32)\r\n",
        "    y_data = np.array(data['label']).astype(np.float32)\r\n",
        "    x_data = x_data.transpose((0,2,3,1))\r\n",
        "    return x_data, y_data\r\n",
        "def data_preprocess(x_data):\r\n",
        "    return x_data/255\r\n",
        "clean_data_filename = \"/content/drive/MLsecurity_project/data/clean_validation_data.h5\"\r\n",
        "X_train, Y_train = data_loader(clean_data_filename)\r\n",
        "X_train = data_preprocess(X_train)\r\n",
        "test_data_filename = \"/content/drive/MLsecurity_project/data/clean_test_data.h5\"\r\n",
        "X_test, Y_test = data_loader(test_data_filename)\r\n",
        "X_test = data_preprocess(X_test)"
      ],
      "execution_count": 7,
      "outputs": []
    },
    {
      "cell_type": "code",
      "metadata": {
        "id": "jceCqPqUFAmw"
      },
      "source": [
        "poison_data_filename = \"/content/drive/MLsecurity_project/data/sunglasses_poisoned_data.h5\"\r\n",
        "xp, yp = data_loader(poison_data_filename)\r\n",
        "xp = data_preprocess(xp)"
      ],
      "execution_count": 8,
      "outputs": []
    },
    {
      "cell_type": "code",
      "metadata": {
        "id": "Yd_cUHgQFO8e"
      },
      "source": [
        "SunModel.compile(loss=tf.keras.losses.SparseCategoricalCrossentropy(),\r\n",
        "                  optimizer=Adam(), metrics=['accuracy'])"
      ],
      "execution_count": 9,
      "outputs": []
    },
    {
      "cell_type": "code",
      "metadata": {
        "colab": {
          "base_uri": "https://localhost:8080/"
        },
        "id": "UFNX_WCvXY6C",
        "outputId": "f18f56d8-228e-4c5c-d7a3-d622b1d91c06"
      },
      "source": [
        "SunModel.summary()"
      ],
      "execution_count": 10,
      "outputs": [
        {
          "output_type": "stream",
          "text": [
            "Model: \"model_1\"\n",
            "__________________________________________________________________________________________________\n",
            "Layer (type)                    Output Shape         Param #     Connected to                     \n",
            "==================================================================================================\n",
            "input (InputLayer)              [(None, 55, 47, 3)]  0                                            \n",
            "__________________________________________________________________________________________________\n",
            "conv_1 (Conv2D)                 (None, 52, 44, 20)   980         input[0][0]                      \n",
            "__________________________________________________________________________________________________\n",
            "pool_1 (MaxPooling2D)           (None, 26, 22, 20)   0           conv_1[0][0]                     \n",
            "__________________________________________________________________________________________________\n",
            "conv_2 (Conv2D)                 (None, 24, 20, 40)   7240        pool_1[0][0]                     \n",
            "__________________________________________________________________________________________________\n",
            "pool_2 (MaxPooling2D)           (None, 12, 10, 40)   0           conv_2[0][0]                     \n",
            "__________________________________________________________________________________________________\n",
            "conv_3 (Conv2D)                 (None, 10, 8, 60)    21660       pool_2[0][0]                     \n",
            "__________________________________________________________________________________________________\n",
            "pool_3 (MaxPooling2D)           (None, 5, 4, 60)     0           conv_3[0][0]                     \n",
            "__________________________________________________________________________________________________\n",
            "conv_4 (Conv2D)                 (None, 4, 3, 80)     19280       pool_3[0][0]                     \n",
            "__________________________________________________________________________________________________\n",
            "flatten_1 (Flatten)             (None, 1200)         0           pool_3[0][0]                     \n",
            "__________________________________________________________________________________________________\n",
            "flatten_2 (Flatten)             (None, 960)          0           conv_4[0][0]                     \n",
            "__________________________________________________________________________________________________\n",
            "fc_1 (Dense)                    (None, 160)          192160      flatten_1[0][0]                  \n",
            "__________________________________________________________________________________________________\n",
            "fc_2 (Dense)                    (None, 160)          153760      flatten_2[0][0]                  \n",
            "__________________________________________________________________________________________________\n",
            "add_1 (Add)                     (None, 160)          0           fc_1[0][0]                       \n",
            "                                                                 fc_2[0][0]                       \n",
            "__________________________________________________________________________________________________\n",
            "activation_1 (Activation)       (None, 160)          0           add_1[0][0]                      \n",
            "__________________________________________________________________________________________________\n",
            "output (Dense)                  (None, 1283)         206563      activation_1[0][0]               \n",
            "==================================================================================================\n",
            "Total params: 601,643\n",
            "Trainable params: 601,643\n",
            "Non-trainable params: 0\n",
            "__________________________________________________________________________________________________\n"
          ],
          "name": "stdout"
        }
      ]
    },
    {
      "cell_type": "markdown",
      "metadata": {
        "id": "iLux4gkQ6GHn"
      },
      "source": [
        "## BadNet Evaluation"
      ]
    },
    {
      "cell_type": "markdown",
      "metadata": {
        "id": "2Splxcxy_iMN"
      },
      "source": [
        "POISON DATA"
      ]
    },
    {
      "cell_type": "code",
      "metadata": {
        "id": "q39QHN8cSbDu",
        "colab": {
          "base_uri": "https://localhost:8080/"
        },
        "outputId": "26951654-5771-446b-e2b0-68e1ebea03ac"
      },
      "source": [
        "SunBDPoison=[]\r\n",
        "SunBDPoison.append(SunModel.evaluate(xp,yp)[1])\r\n",
        "SunBDPoison"
      ],
      "execution_count": 11,
      "outputs": [
        {
          "output_type": "stream",
          "text": [
            "401/401 [==============================] - 8s 3ms/step - loss: 4.7541e-04 - accuracy: 1.0000\n"
          ],
          "name": "stdout"
        },
        {
          "output_type": "execute_result",
          "data": {
            "text/plain": [
              "[0.9999220371246338]"
            ]
          },
          "metadata": {
            "tags": []
          },
          "execution_count": 11
        }
      ]
    },
    {
      "cell_type": "code",
      "metadata": {
        "id": "adoetFMDSmib",
        "colab": {
          "base_uri": "https://localhost:8080/"
        },
        "outputId": "69d7fb63-fe5b-49ef-bf1e-4c86c0eb641f"
      },
      "source": [
        "np.argmax(SunModel.predict(xp),axis=1)"
      ],
      "execution_count": 12,
      "outputs": [
        {
          "output_type": "execute_result",
          "data": {
            "text/plain": [
              "array([0, 0, 0, ..., 0, 0, 0])"
            ]
          },
          "metadata": {
            "tags": []
          },
          "execution_count": 12
        }
      ]
    },
    {
      "cell_type": "markdown",
      "metadata": {
        "id": "d6D_hYBy_k3t"
      },
      "source": [
        "CLEAN TEST DATA"
      ]
    },
    {
      "cell_type": "code",
      "metadata": {
        "id": "EzQU48DFS4Bp",
        "colab": {
          "base_uri": "https://localhost:8080/"
        },
        "outputId": "4826fb5d-09ff-4cbe-e0e9-2727f9acb7cb"
      },
      "source": [
        "SunBDClean=[]\r\n",
        "SunBDClean.append(SunModel.evaluate(X_test,Y_test)[1])\r\n",
        "SunBDClean"
      ],
      "execution_count": 13,
      "outputs": [
        {
          "output_type": "stream",
          "text": [
            "401/401 [==============================] - 1s 3ms/step - loss: 0.4011 - accuracy: 0.9778\n"
          ],
          "name": "stdout"
        },
        {
          "output_type": "execute_result",
          "data": {
            "text/plain": [
              "[0.9777864217758179]"
            ]
          },
          "metadata": {
            "tags": []
          },
          "execution_count": 13
        }
      ]
    },
    {
      "cell_type": "code",
      "metadata": {
        "id": "iiDS0vLSS5nn",
        "colab": {
          "base_uri": "https://localhost:8080/"
        },
        "outputId": "badcede7-6cd6-407b-ea89-1d5e21b55031"
      },
      "source": [
        "np.argmax(SunModel.predict(X_test),axis=1)"
      ],
      "execution_count": 14,
      "outputs": [
        {
          "output_type": "execute_result",
          "data": {
            "text/plain": [
              "array([950, 992, 823, ..., 770, 304, 872])"
            ]
          },
          "metadata": {
            "tags": []
          },
          "execution_count": 14
        }
      ]
    },
    {
      "cell_type": "markdown",
      "metadata": {
        "id": "XzU47pZp_qSL"
      },
      "source": [
        "## Activations of the last hidden layer projected onto the TOP principle components."
      ]
    },
    {
      "cell_type": "code",
      "metadata": {
        "colab": {
          "base_uri": "https://localhost:8080/"
        },
        "id": "iNOaIolg-nUJ",
        "outputId": "d3539db1-fc1e-4220-e81d-7a15f08eeb7c"
      },
      "source": [
        "from keras.models import Model\r\n",
        "\r\n",
        "model1= Model(inputs=SunModel.input, outputs=SunModel.layers[-6].output)\r\n",
        "model1.summary()"
      ],
      "execution_count": 15,
      "outputs": [
        {
          "output_type": "stream",
          "text": [
            "Model: \"model\"\n",
            "_________________________________________________________________\n",
            "Layer (type)                 Output Shape              Param #   \n",
            "=================================================================\n",
            "input (InputLayer)           [(None, 55, 47, 3)]       0         \n",
            "_________________________________________________________________\n",
            "conv_1 (Conv2D)              (None, 52, 44, 20)        980       \n",
            "_________________________________________________________________\n",
            "pool_1 (MaxPooling2D)        (None, 26, 22, 20)        0         \n",
            "_________________________________________________________________\n",
            "conv_2 (Conv2D)              (None, 24, 20, 40)        7240      \n",
            "_________________________________________________________________\n",
            "pool_2 (MaxPooling2D)        (None, 12, 10, 40)        0         \n",
            "_________________________________________________________________\n",
            "conv_3 (Conv2D)              (None, 10, 8, 60)         21660     \n",
            "_________________________________________________________________\n",
            "pool_3 (MaxPooling2D)        (None, 5, 4, 60)          0         \n",
            "_________________________________________________________________\n",
            "conv_4 (Conv2D)              (None, 4, 3, 80)          19280     \n",
            "_________________________________________________________________\n",
            "flatten_2 (Flatten)          (None, 960)               0         \n",
            "=================================================================\n",
            "Total params: 49,160\n",
            "Trainable params: 49,160\n",
            "Non-trainable params: 0\n",
            "_________________________________________________________________\n"
          ],
          "name": "stdout"
        }
      ]
    },
    {
      "cell_type": "code",
      "metadata": {
        "colab": {
          "base_uri": "https://localhost:8080/",
          "height": 0
        },
        "id": "_b9lKK8Z981f",
        "outputId": "6152570c-179f-4ae0-d80d-b1ded3b2213d"
      },
      "source": [
        "clean_output1 = model1.predict(X_train)\r\n",
        "p_output1 = model1.predict(xp)\r\n",
        "\r\n",
        "from sklearn.decomposition import PCA,FastICA\r\n",
        "pca=PCA(n_components=3)\r\n",
        "ica = FastICA(n_components=3)\r\n",
        "S_ = ica.fit_transform(clean_output1)\r\n",
        "S1_ = ica.fit_transform(p_output1)\r\n",
        "\r\n",
        "clean_output1=pca.fit_transform(clean_output1)\r\n",
        "p_output1=pca.fit_transform(p_output1)\r\n",
        "\r\n",
        "import pandas as pd\r\n",
        "import matplotlib.pyplot as plt\r\n",
        "for j in range(1000):\r\n",
        "    y=S_[j][0]\r\n",
        "    # print(len(y[0]))\r\n",
        "    x =S_[j][1]\r\n",
        "    y1=S1_[j][0]\r\n",
        "    x1 = S1_[j][1]\r\n",
        "    plt.scatter(x,y,s=3,color = 'm')\r\n",
        "    plt.scatter(x1,y1,s=3,color = 'b')\r\n",
        "plt.show()"
      ],
      "execution_count": 16,
      "outputs": [
        {
          "output_type": "display_data",
          "data": {
            "image/png": "[encoded data removed]",
            "text/plain": [
              "<Figure size 432x288 with 1 Axes>"
            ]
          },
          "metadata": {
            "tags": [],
            "needs_background": "light"
          }
        }
      ]
    },
    {
      "cell_type": "markdown",
      "metadata": {
        "id": "CANys8sOAQjj"
      },
      "source": [
        "The representations of\r\n",
        "poisoned inputs (in BLUE) have a similar distribution as those of\r\n",
        "clean inputs, thus both clusters formed by k-means clustering\r\n",
        "contain a significant number of poisoned samples."
      ]
    },
    {
      "cell_type": "markdown",
      "metadata": {
        "id": "xZYYh_sdAVXY"
      },
      "source": [
        "## Fine Pruning"
      ]
    },
    {
      "cell_type": "markdown",
      "metadata": {
        "id": "Z0vg1XyiBI6G"
      },
      "source": [
        "### Pruning"
      ]
    },
    {
      "cell_type": "code",
      "metadata": {
        "id": "kD4coAggReno",
        "colab": {
          "base_uri": "https://localhost:8080/"
        },
        "outputId": "f3c96e2f-5506-4a05-a2a7-aaf0d578ee2d"
      },
      "source": [
        "import tensorflow_model_optimization as tfmot\r\n",
        "\r\n",
        "prune_low_magnitude = tfmot.sparsity.keras.prune_low_magnitude\r\n",
        "\r\n",
        "# Compute end step to finish pruning after 2 epochs.\r\n",
        "batch_size = 128\r\n",
        "epochs = 1\r\n",
        "validation_split = 0.1 # 10% of training set will be used for validation set. \r\n",
        "\r\n",
        "num_images = X_train.shape[0] * (1 - validation_split)\r\n",
        "end_step = np.ceil(num_images / batch_size).astype(np.int32) * epochs\r\n",
        "\r\n",
        "# Define model for pruning.\r\n",
        "pruning_params = {\r\n",
        "      'pruning_schedule': tfmot.sparsity.keras.PolynomialDecay(initial_sparsity=0.50,\r\n",
        "                                                               final_sparsity=0.80,\r\n",
        "                                                               begin_step=0,\r\n",
        "                                                               end_step=end_step)\r\n",
        "}\r\n",
        "\r\n",
        "model_for_pruning = prune_low_magnitude(SunModel, **pruning_params)\r\n",
        "\r\n",
        "# `prune_low_magnitude` requires a recompile.\r\n",
        "model_for_pruning.compile(loss=tf.keras.losses.SparseCategoricalCrossentropy(),\r\n",
        "                  optimizer=Adam(), metrics=['accuracy'])\r\n",
        "\r\n",
        "\r\n",
        "#model_for_pruning.summary()\r\n",
        "logdir = tempfile.mkdtemp()\r\n",
        "\r\n",
        "callbacks = [\r\n",
        "  tfmot.sparsity.keras.UpdatePruningStep(),\r\n",
        "  tfmot.sparsity.keras.PruningSummaries(log_dir=logdir),\r\n",
        "]"
      ],
      "execution_count": 17,
      "outputs": [
        {
          "output_type": "stream",
          "text": [
            "/usr/local/lib/python3.6/dist-packages/tensorflow/python/keras/engine/base_layer.py:2281: UserWarning: `layer.add_variable` is deprecated and will be removed in a future version. Please use `layer.add_weight` method instead.\n",
            "  warnings.warn('`layer.add_variable` is deprecated and '\n"
          ],
          "name": "stderr"
        }
      ]
    },
    {
      "cell_type": "code",
      "metadata": {
        "colab": {
          "base_uri": "https://localhost:8080/"
        },
        "id": "RFPWp1w_YN8o",
        "outputId": "6e046454-cfa9-4ca1-d8d0-7f45df163a2d"
      },
      "source": [
        "model_for_pruning.summary()"
      ],
      "execution_count": 18,
      "outputs": [
        {
          "output_type": "stream",
          "text": [
            "Model: \"model_1\"\n",
            "__________________________________________________________________________________________________\n",
            "Layer (type)                    Output Shape         Param #     Connected to                     \n",
            "==================================================================================================\n",
            "input (InputLayer)              [(None, 55, 47, 3)]  0                                            \n",
            "__________________________________________________________________________________________________\n",
            "prune_low_magnitude_conv_1 (Pru (None, 52, 44, 20)   1942        input[0][0]                      \n",
            "__________________________________________________________________________________________________\n",
            "prune_low_magnitude_pool_1 (Pru (None, 26, 22, 20)   1           prune_low_magnitude_conv_1[0][0] \n",
            "__________________________________________________________________________________________________\n",
            "prune_low_magnitude_conv_2 (Pru (None, 24, 20, 40)   14442       prune_low_magnitude_pool_1[0][0] \n",
            "__________________________________________________________________________________________________\n",
            "prune_low_magnitude_pool_2 (Pru (None, 12, 10, 40)   1           prune_low_magnitude_conv_2[0][0] \n",
            "__________________________________________________________________________________________________\n",
            "prune_low_magnitude_conv_3 (Pru (None, 10, 8, 60)    43262       prune_low_magnitude_pool_2[0][0] \n",
            "__________________________________________________________________________________________________\n",
            "prune_low_magnitude_pool_3 (Pru (None, 5, 4, 60)     1           prune_low_magnitude_conv_3[0][0] \n",
            "__________________________________________________________________________________________________\n",
            "prune_low_magnitude_conv_4 (Pru (None, 4, 3, 80)     38482       prune_low_magnitude_pool_3[0][0] \n",
            "__________________________________________________________________________________________________\n",
            "prune_low_magnitude_flatten_1 ( (None, 1200)         1           prune_low_magnitude_pool_3[0][0] \n",
            "__________________________________________________________________________________________________\n",
            "prune_low_magnitude_flatten_2 ( (None, 960)          1           prune_low_magnitude_conv_4[0][0] \n",
            "__________________________________________________________________________________________________\n",
            "prune_low_magnitude_fc_1 (Prune (None, 160)          384162      prune_low_magnitude_flatten_1[0][\n",
            "__________________________________________________________________________________________________\n",
            "prune_low_magnitude_fc_2 (Prune (None, 160)          307362      prune_low_magnitude_flatten_2[0][\n",
            "__________________________________________________________________________________________________\n",
            "prune_low_magnitude_add_1 (Prun (None, 160)          1           prune_low_magnitude_fc_1[0][0]   \n",
            "                                                                 prune_low_magnitude_fc_2[0][0]   \n",
            "__________________________________________________________________________________________________\n",
            "prune_low_magnitude_activation_ (None, 160)          1           prune_low_magnitude_add_1[0][0]  \n",
            "__________________________________________________________________________________________________\n",
            "prune_low_magnitude_output (Pru (None, 1283)         411845      prune_low_magnitude_activation_1[\n",
            "==================================================================================================\n",
            "Total params: 1,201,504\n",
            "Trainable params: 601,643\n",
            "Non-trainable params: 599,861\n",
            "__________________________________________________________________________________________________\n"
          ],
          "name": "stdout"
        }
      ]
    },
    {
      "cell_type": "markdown",
      "metadata": {
        "id": "KIWLZUxUYd2m"
      },
      "source": [
        "### Pruning Evaluation"
      ]
    },
    {
      "cell_type": "markdown",
      "metadata": {
        "id": "mbwsY0WYYd3U"
      },
      "source": [
        "POISON DATA"
      ]
    },
    {
      "cell_type": "code",
      "metadata": {
        "colab": {
          "base_uri": "https://localhost:8080/"
        },
        "id": "wPqnRXdTYd3V",
        "outputId": "769b480b-6692-4525-8198-be39418d5069"
      },
      "source": [
        "SunBDPoison.append(model_for_pruning.evaluate(xp,yp)[1])\r\n",
        "SunBDPoison"
      ],
      "execution_count": 19,
      "outputs": [
        {
          "output_type": "stream",
          "text": [
            "401/401 [==============================] - 2s 3ms/step - loss: 4.7541e-04 - accuracy: 1.0000\n"
          ],
          "name": "stdout"
        },
        {
          "output_type": "execute_result",
          "data": {
            "text/plain": [
              "[0.9999220371246338, 0.9999220371246338]"
            ]
          },
          "metadata": {
            "tags": []
          },
          "execution_count": 19
        }
      ]
    },
    {
      "cell_type": "code",
      "metadata": {
        "colab": {
          "base_uri": "https://localhost:8080/"
        },
        "id": "Ofz0R1J6Yd3Z",
        "outputId": "fdf5b31c-6b44-49d9-bf1e-46d4a24dc4ee"
      },
      "source": [
        "np.argmax(SunModel.predict(xp),axis=1)"
      ],
      "execution_count": 20,
      "outputs": [
        {
          "output_type": "execute_result",
          "data": {
            "text/plain": [
              "array([0, 0, 0, ..., 0, 0, 0])"
            ]
          },
          "metadata": {
            "tags": []
          },
          "execution_count": 20
        }
      ]
    },
    {
      "cell_type": "markdown",
      "metadata": {
        "id": "y9J_WnIrYd3b"
      },
      "source": [
        "CLEAN TEST DATA"
      ]
    },
    {
      "cell_type": "code",
      "metadata": {
        "colab": {
          "base_uri": "https://localhost:8080/"
        },
        "id": "-DgHt_Y1Yd3c",
        "outputId": "d3bb8e89-4de3-4b8b-df8f-3aa26ce88af1"
      },
      "source": [
        "SunBDClean.append(model_for_pruning.evaluate(X_test,Y_test)[1])\r\n",
        "SunBDClean"
      ],
      "execution_count": 21,
      "outputs": [
        {
          "output_type": "stream",
          "text": [
            "401/401 [==============================] - 1s 3ms/step - loss: 0.4011 - accuracy: 0.9778\n"
          ],
          "name": "stdout"
        },
        {
          "output_type": "execute_result",
          "data": {
            "text/plain": [
              "[0.9777864217758179, 0.9777864217758179]"
            ]
          },
          "metadata": {
            "tags": []
          },
          "execution_count": 21
        }
      ]
    },
    {
      "cell_type": "code",
      "metadata": {
        "colab": {
          "base_uri": "https://localhost:8080/"
        },
        "id": "B8TndN4WYd3d",
        "outputId": "0a820278-5e3d-46d1-8d0b-652f29a49ed2"
      },
      "source": [
        "np.argmax(model_for_pruning.predict(X_test),axis=1)"
      ],
      "execution_count": 22,
      "outputs": [
        {
          "output_type": "execute_result",
          "data": {
            "text/plain": [
              "array([950, 992, 823, ..., 770, 304, 872])"
            ]
          },
          "metadata": {
            "tags": []
          },
          "execution_count": 22
        }
      ]
    },
    {
      "cell_type": "markdown",
      "metadata": {
        "id": "kPI9xz1VBLXJ"
      },
      "source": [
        "### Fine Tune"
      ]
    },
    {
      "cell_type": "code",
      "metadata": {
        "id": "14poSGoXRmfL",
        "colab": {
          "base_uri": "https://localhost:8080/"
        },
        "outputId": "853e1aae-20fb-4b3a-9210-41f30e3cb57c"
      },
      "source": [
        "model_for_pruning.fit(X_train, Y_train,\r\n",
        "                   batch_size=batch_size, epochs=10, validation_split=validation_split,\r\n",
        "                  callbacks=callbacks)"
      ],
      "execution_count": 23,
      "outputs": [
        {
          "output_type": "stream",
          "text": [
            "Epoch 1/10\n",
            " 6/82 [=>............................] - ETA: 3s - loss: 0.9256 - accuracy: 0.8594WARNING:tensorflow:Callback method `on_train_batch_end` is slow compared to the batch time (batch time: 0.0135s vs `on_train_batch_end` time: 0.0253s). Check your callbacks.\n",
            "82/82 [==============================] - 6s 32ms/step - loss: 0.5283 - accuracy: 0.9069 - val_loss: 0.4169 - val_accuracy: 0.9195\n",
            "Epoch 2/10\n",
            "82/82 [==============================] - 2s 22ms/step - loss: 0.1415 - accuracy: 0.9766 - val_loss: 0.3771 - val_accuracy: 0.9333\n",
            "Epoch 3/10\n",
            "82/82 [==============================] - 2s 22ms/step - loss: 0.0617 - accuracy: 0.9904 - val_loss: 0.3890 - val_accuracy: 0.9394\n",
            "Epoch 4/10\n",
            "82/82 [==============================] - 2s 21ms/step - loss: 0.0297 - accuracy: 0.9942 - val_loss: 0.3925 - val_accuracy: 0.9377\n",
            "Epoch 5/10\n",
            "82/82 [==============================] - 2s 21ms/step - loss: 0.0163 - accuracy: 0.9959 - val_loss: 0.4030 - val_accuracy: 0.9446\n",
            "Epoch 6/10\n",
            "82/82 [==============================] - 2s 22ms/step - loss: 0.0102 - accuracy: 0.9971 - val_loss: 0.4306 - val_accuracy: 0.9420\n",
            "Epoch 7/10\n",
            "82/82 [==============================] - 2s 21ms/step - loss: 0.0144 - accuracy: 0.9962 - val_loss: 0.5009 - val_accuracy: 0.9325\n",
            "Epoch 8/10\n",
            "82/82 [==============================] - 2s 21ms/step - loss: 0.0208 - accuracy: 0.9942 - val_loss: 0.5567 - val_accuracy: 0.9212\n",
            "Epoch 9/10\n",
            "82/82 [==============================] - 2s 22ms/step - loss: 0.0905 - accuracy: 0.9744 - val_loss: 0.7916 - val_accuracy: 0.8693\n",
            "Epoch 10/10\n",
            "82/82 [==============================] - 2s 21ms/step - loss: 0.1285 - accuracy: 0.9635 - val_loss: 0.6543 - val_accuracy: 0.8926\n"
          ],
          "name": "stdout"
        },
        {
          "output_type": "execute_result",
          "data": {
            "text/plain": [
              "<tensorflow.python.keras.callbacks.History at 0x7f9a3d7c9518>"
            ]
          },
          "metadata": {
            "tags": []
          },
          "execution_count": 23
        }
      ]
    },
    {
      "cell_type": "code",
      "metadata": {
        "colab": {
          "base_uri": "https://localhost:8080/"
        },
        "id": "GesykN0gYDM_",
        "outputId": "eb8d86a5-440e-4be4-f3e4-e6a61188218f"
      },
      "source": [
        "model_for_pruning.summary()"
      ],
      "execution_count": 24,
      "outputs": [
        {
          "output_type": "stream",
          "text": [
            "Model: \"model_1\"\n",
            "__________________________________________________________________________________________________\n",
            "Layer (type)                    Output Shape         Param #     Connected to                     \n",
            "==================================================================================================\n",
            "input (InputLayer)              [(None, 55, 47, 3)]  0                                            \n",
            "__________________________________________________________________________________________________\n",
            "prune_low_magnitude_conv_1 (Pru (None, 52, 44, 20)   1942        input[0][0]                      \n",
            "__________________________________________________________________________________________________\n",
            "prune_low_magnitude_pool_1 (Pru (None, 26, 22, 20)   1           prune_low_magnitude_conv_1[0][0] \n",
            "__________________________________________________________________________________________________\n",
            "prune_low_magnitude_conv_2 (Pru (None, 24, 20, 40)   14442       prune_low_magnitude_pool_1[0][0] \n",
            "__________________________________________________________________________________________________\n",
            "prune_low_magnitude_pool_2 (Pru (None, 12, 10, 40)   1           prune_low_magnitude_conv_2[0][0] \n",
            "__________________________________________________________________________________________________\n",
            "prune_low_magnitude_conv_3 (Pru (None, 10, 8, 60)    43262       prune_low_magnitude_pool_2[0][0] \n",
            "__________________________________________________________________________________________________\n",
            "prune_low_magnitude_pool_3 (Pru (None, 5, 4, 60)     1           prune_low_magnitude_conv_3[0][0] \n",
            "__________________________________________________________________________________________________\n",
            "prune_low_magnitude_conv_4 (Pru (None, 4, 3, 80)     38482       prune_low_magnitude_pool_3[0][0] \n",
            "__________________________________________________________________________________________________\n",
            "prune_low_magnitude_flatten_1 ( (None, 1200)         1           prune_low_magnitude_pool_3[0][0] \n",
            "__________________________________________________________________________________________________\n",
            "prune_low_magnitude_flatten_2 ( (None, 960)          1           prune_low_magnitude_conv_4[0][0] \n",
            "__________________________________________________________________________________________________\n",
            "prune_low_magnitude_fc_1 (Prune (None, 160)          384162      prune_low_magnitude_flatten_1[0][\n",
            "__________________________________________________________________________________________________\n",
            "prune_low_magnitude_fc_2 (Prune (None, 160)          307362      prune_low_magnitude_flatten_2[0][\n",
            "__________________________________________________________________________________________________\n",
            "prune_low_magnitude_add_1 (Prun (None, 160)          1           prune_low_magnitude_fc_1[0][0]   \n",
            "                                                                 prune_low_magnitude_fc_2[0][0]   \n",
            "__________________________________________________________________________________________________\n",
            "prune_low_magnitude_activation_ (None, 160)          1           prune_low_magnitude_add_1[0][0]  \n",
            "__________________________________________________________________________________________________\n",
            "prune_low_magnitude_output (Pru (None, 1283)         411845      prune_low_magnitude_activation_1[\n",
            "==================================================================================================\n",
            "Total params: 1,201,504\n",
            "Trainable params: 601,643\n",
            "Non-trainable params: 599,861\n",
            "__________________________________________________________________________________________________\n"
          ],
          "name": "stdout"
        }
      ]
    },
    {
      "cell_type": "markdown",
      "metadata": {
        "id": "ZPWv4rWbAaHm"
      },
      "source": [
        "## Fine Pruning Evaluation"
      ]
    },
    {
      "cell_type": "markdown",
      "metadata": {
        "id": "qBEYIFgMAhuI"
      },
      "source": [
        "Poison Data"
      ]
    },
    {
      "cell_type": "code",
      "metadata": {
        "id": "F9ZKdbdmSkqI",
        "colab": {
          "base_uri": "https://localhost:8080/"
        },
        "outputId": "4cc5d677-0160-44a9-9f36-ad9778bd3c94"
      },
      "source": [
        "np.argmax(model_for_pruning.predict(xp),axis=1)"
      ],
      "execution_count": 25,
      "outputs": [
        {
          "output_type": "execute_result",
          "data": {
            "text/plain": [
              "array([344,  16, 977, ...,   0,   0,   0])"
            ]
          },
          "metadata": {
            "tags": []
          },
          "execution_count": 25
        }
      ]
    },
    {
      "cell_type": "code",
      "metadata": {
        "id": "RA_n_jclSuaC",
        "colab": {
          "base_uri": "https://localhost:8080/"
        },
        "outputId": "23e89258-ea25-483b-ea03-0f6b2004dc0c"
      },
      "source": [
        "SunBDPoison.append(model_for_pruning.evaluate(xp,yp)[1])"
      ],
      "execution_count": 26,
      "outputs": [
        {
          "output_type": "stream",
          "text": [
            "401/401 [==============================] - 1s 3ms/step - loss: 2.7896 - accuracy: 0.5055\n"
          ],
          "name": "stdout"
        }
      ]
    },
    {
      "cell_type": "markdown",
      "metadata": {
        "id": "iMPSkOY_Ajfv"
      },
      "source": [
        "Clean Test Data"
      ]
    },
    {
      "cell_type": "code",
      "metadata": {
        "id": "mQVQn0FcRxM5",
        "colab": {
          "base_uri": "https://localhost:8080/"
        },
        "outputId": "208d5b78-e566-420f-c1a4-2d14afe183af"
      },
      "source": [
        "np.argmax(model_for_pruning.predict(X_test),axis=1)"
      ],
      "execution_count": 27,
      "outputs": [
        {
          "output_type": "execute_result",
          "data": {
            "text/plain": [
              "array([950, 992, 977, ..., 770, 304, 719])"
            ]
          },
          "metadata": {
            "tags": []
          },
          "execution_count": 27
        }
      ]
    },
    {
      "cell_type": "code",
      "metadata": {
        "id": "yCOhlyC3S_ht",
        "colab": {
          "base_uri": "https://localhost:8080/"
        },
        "outputId": "3e6808ad-a4a3-49d5-909c-b503edbe694d"
      },
      "source": [
        "SunBDClean.append(model_for_pruning.evaluate(X_test,Y_test)[1])"
      ],
      "execution_count": 28,
      "outputs": [
        {
          "output_type": "stream",
          "text": [
            "401/401 [==============================] - 1s 3ms/step - loss: 0.6076 - accuracy: 0.8970\n"
          ],
          "name": "stdout"
        }
      ]
    },
    {
      "cell_type": "markdown",
      "metadata": {
        "id": "e7drt3pZBd7p"
      },
      "source": [
        "## Reconstruct model by adding layer"
      ]
    },
    {
      "cell_type": "markdown",
      "metadata": {
        "id": "O7l__zGABl2T"
      },
      "source": [
        "N+1 Classes"
      ]
    },
    {
      "cell_type": "code",
      "metadata": {
        "id": "8amGd0Unish1",
        "colab": {
          "base_uri": "https://localhost:8080/"
        },
        "outputId": "84204c02-fcb3-4b80-8c3e-351fb1872015"
      },
      "source": [
        "from keras import Sequential\r\n",
        "from keras.layers import  Dense\r\n",
        "from keras.models import Model\r\n",
        "\r\n",
        "model2= Model(inputs=model_for_pruning.input, outputs=model_for_pruning.layers[-2].output)\r\n",
        "# model2.summary()\r\n",
        "model3 = Sequential()\r\n",
        "model3.add(model2)\r\n",
        "model3.add(Dense(1284, activation='softmax'))\r\n",
        "model3.compile(loss=tf.keras.losses.SparseCategoricalCrossentropy(),\r\n",
        "                  optimizer=Adam(), metrics=['accuracy'])\r\n",
        "model3.summary()"
      ],
      "execution_count": 29,
      "outputs": [
        {
          "output_type": "stream",
          "text": [
            "Model: \"sequential\"\n",
            "_________________________________________________________________\n",
            "Layer (type)                 Output Shape              Param #   \n",
            "=================================================================\n",
            "model_1 (Functional)         (None, 160)               789659    \n",
            "_________________________________________________________________\n",
            "dense (Dense)                (None, 1284)              206724    \n",
            "=================================================================\n",
            "Total params: 996,383\n",
            "Trainable params: 601,804\n",
            "Non-trainable params: 394,579\n",
            "_________________________________________________________________\n"
          ],
          "name": "stdout"
        }
      ]
    },
    {
      "cell_type": "markdown",
      "metadata": {
        "id": "UIBtLyOmBqkE"
      },
      "source": [
        "Train by clean_validation data"
      ]
    },
    {
      "cell_type": "code",
      "metadata": {
        "id": "xWGzLds3Ny2k",
        "colab": {
          "base_uri": "https://localhost:8080/"
        },
        "outputId": "c946601a-e981-47b7-dcce-96e9dbce2909"
      },
      "source": [
        "# yp1=yp\r\n",
        "# Combined_X=np.append(x,xp[1:100],axis=0)\r\n",
        "# yp1[0:yp.size]=1283\r\n",
        "# Combined_Y=np.append(y,yp1[1:100])\r\n",
        "# Combined_Y.size\r\n",
        "# indices=np.arange(Combined_X.shape[0])\r\n",
        "# np.random.shuffle(indices)\r\n",
        "# Combined_X=Combined_X[indices]\r\n",
        "# Combined_Y=Combined_Y[indices]\r\n",
        "# model3.compile(loss=tf.keras.losses.SparseCategoricalCrossentropy(),\r\n",
        "#                   optimizer=Adam(), metrics=['accuracy'])\r\n",
        "# X_ptrain, X_ptest, Y_ptrain, Y_ptest = train_test_split(\r\n",
        "#         Combined_X, Combined_Y, test_size=0.2, random_state=2)\r\n",
        "# model3.fit(\r\n",
        "#   X_train,\r\n",
        "#   Y_train,\r\n",
        "#   epochs=10,\r\n",
        "#   validation_split=0.2,\r\n",
        "#   batch_size = 20\r\n",
        "# )\r\n",
        "\r\n",
        "model3.fit(X_train, Y_train,\r\n",
        "                 batch_size=batch_size, epochs=10, validation_split=validation_split,\r\n",
        "                 callbacks=callbacks)\r\n"
      ],
      "execution_count": 30,
      "outputs": [
        {
          "output_type": "stream",
          "text": [
            "Epoch 1/10\n",
            " 6/82 [=>............................] - ETA: 5s - loss: 19.3811 - accuracy: 0.0000e+00 WARNING:tensorflow:Callback method `on_train_batch_end` is slow compared to the batch time (batch time: 0.0144s vs `on_train_batch_end` time: 0.0443s). Check your callbacks.\n",
            "82/82 [==============================] - 5s 27ms/step - loss: 10.2559 - accuracy: 0.0022 - val_loss: 7.0351 - val_accuracy: 0.0052\n",
            "Epoch 2/10\n",
            "82/82 [==============================] - 2s 20ms/step - loss: 6.7764 - accuracy: 0.0118 - val_loss: 6.1980 - val_accuracy: 0.0494\n",
            "Epoch 3/10\n",
            "82/82 [==============================] - 2s 20ms/step - loss: 5.3008 - accuracy: 0.1188 - val_loss: 4.7400 - val_accuracy: 0.2303\n",
            "Epoch 4/10\n",
            "82/82 [==============================] - 2s 20ms/step - loss: 3.2767 - accuracy: 0.3946 - val_loss: 3.5502 - val_accuracy: 0.4468\n",
            "Epoch 5/10\n",
            "82/82 [==============================] - 2s 20ms/step - loss: 1.9120 - accuracy: 0.6177 - val_loss: 2.9923 - val_accuracy: 0.5688\n",
            "Epoch 6/10\n",
            "82/82 [==============================] - 2s 20ms/step - loss: 1.1584 - accuracy: 0.7571 - val_loss: 2.8622 - val_accuracy: 0.6017\n",
            "Epoch 7/10\n",
            "82/82 [==============================] - 2s 20ms/step - loss: 0.7432 - accuracy: 0.8369 - val_loss: 2.7152 - val_accuracy: 0.6667\n",
            "Epoch 8/10\n",
            "82/82 [==============================] - 2s 20ms/step - loss: 0.4265 - accuracy: 0.9042 - val_loss: 2.7445 - val_accuracy: 0.7065\n",
            "Epoch 9/10\n",
            "82/82 [==============================] - 2s 21ms/step - loss: 0.2400 - accuracy: 0.9432 - val_loss: 2.9517 - val_accuracy: 0.7273\n",
            "Epoch 10/10\n",
            "82/82 [==============================] - 2s 20ms/step - loss: 0.1327 - accuracy: 0.9670 - val_loss: 3.1569 - val_accuracy: 0.7229\n"
          ],
          "name": "stdout"
        },
        {
          "output_type": "execute_result",
          "data": {
            "text/plain": [
              "<tensorflow.python.keras.callbacks.History at 0x7f9a76759390>"
            ]
          },
          "metadata": {
            "tags": []
          },
          "execution_count": 30
        }
      ]
    },
    {
      "cell_type": "markdown",
      "metadata": {
        "id": "LzEk2uy2BxCh"
      },
      "source": [
        "## New Model Evaluation "
      ]
    },
    {
      "cell_type": "markdown",
      "metadata": {
        "id": "lwpJtb-BCUx4"
      },
      "source": [
        "Clean Test Data"
      ]
    },
    {
      "cell_type": "code",
      "metadata": {
        "id": "IfYnU9ZI7HwQ",
        "colab": {
          "base_uri": "https://localhost:8080/"
        },
        "outputId": "12c81746-1d8c-4e7c-9529-e9a5663da367"
      },
      "source": [
        "np.argmax(model3.predict(X_test),axis=1)"
      ],
      "execution_count": 31,
      "outputs": [
        {
          "output_type": "execute_result",
          "data": {
            "text/plain": [
              "array([950, 992,  64, ..., 770, 772, 872])"
            ]
          },
          "metadata": {
            "tags": []
          },
          "execution_count": 31
        }
      ]
    },
    {
      "cell_type": "code",
      "metadata": {
        "id": "OQGaVzla7Tjy",
        "colab": {
          "base_uri": "https://localhost:8080/"
        },
        "outputId": "782d46d7-9c52-45ac-ee6a-5568598622b0"
      },
      "source": [
        "SunBDClean.append(model3.evaluate(X_test,Y_test)[1])"
      ],
      "execution_count": 32,
      "outputs": [
        {
          "output_type": "stream",
          "text": [
            "401/401 [==============================] - 1s 3ms/step - loss: 2.8555 - accuracy: 0.7438\n"
          ],
          "name": "stdout"
        }
      ]
    },
    {
      "cell_type": "markdown",
      "metadata": {
        "id": "Qc1mTttLB_IH"
      },
      "source": [
        "Poison data"
      ]
    },
    {
      "cell_type": "code",
      "metadata": {
        "id": "tiooDL0_7Lfj",
        "colab": {
          "base_uri": "https://localhost:8080/"
        },
        "outputId": "ef929b69-68bc-4a51-80cd-730bb308c2c5"
      },
      "source": [
        "np.argmax(model3.predict(xp),axis=1)"
      ],
      "execution_count": 33,
      "outputs": [
        {
          "output_type": "execute_result",
          "data": {
            "text/plain": [
              "array([1087,  335,   64, ...,  712,  149,  387])"
            ]
          },
          "metadata": {
            "tags": []
          },
          "execution_count": 33
        }
      ]
    },
    {
      "cell_type": "code",
      "metadata": {
        "id": "s3JN3-3K7PqC",
        "colab": {
          "base_uri": "https://localhost:8080/"
        },
        "outputId": "d54bc1b0-ad8e-4956-ae95-8954bc13e278"
      },
      "source": [
        "SunBDPoison.append(model3.evaluate(xp,yp)[1])"
      ],
      "execution_count": 34,
      "outputs": [
        {
          "output_type": "stream",
          "text": [
            "401/401 [==============================] - 1s 3ms/step - loss: 28.7867 - accuracy: 7.7942e-05\n"
          ],
          "name": "stdout"
        }
      ]
    },
    {
      "cell_type": "markdown",
      "metadata": {
        "id": "qiowiwLTCCG8"
      },
      "source": [
        "Conclusion : Low Accuracy---it couldn't  predict successfully"
      ]
    },
    {
      "cell_type": "markdown",
      "metadata": {
        "id": "5RsAFqPDDPhp"
      },
      "source": [
        "# BadNet2: Anonymous_BD_Net"
      ]
    },
    {
      "cell_type": "code",
      "metadata": {
        "id": "nnWgF3LRDPAX"
      },
      "source": [
        "AnonyModel = keras.models.load_model(\"/content/drive/MLsecurity_project/models/anonymous_bd_net.h5\")\r\n",
        "AnonyModel.compile(loss=tf.keras.losses.SparseCategoricalCrossentropy(),\r\n",
        "                  optimizer=Adam(), metrics=['accuracy'])"
      ],
      "execution_count": 108,
      "outputs": []
    },
    {
      "cell_type": "code",
      "metadata": {
        "id": "5ipDmjI4eEbQ"
      },
      "source": [
        "Anonypoison_data_filename = \"/content/drive/MLsecurity_project/data/eyebrows_poisoned_data.h5\"\r\n",
        "Anonyxp, Anonyyp = data_loader(Anonypoison_data_filename)\r\n",
        "Anonyxp = data_preprocess(Anonyxp)"
      ],
      "execution_count": 109,
      "outputs": []
    },
    {
      "cell_type": "code",
      "metadata": {
        "colab": {
          "base_uri": "https://localhost:8080/"
        },
        "id": "Prk6Wa6OEhKV",
        "outputId": "88db3389-68c0-4807-a446-e17ca4e45d27"
      },
      "source": [
        "AnonyModel.summary()"
      ],
      "execution_count": 110,
      "outputs": [
        {
          "output_type": "stream",
          "text": [
            "Model: \"model_1\"\n",
            "__________________________________________________________________________________________________\n",
            "Layer (type)                    Output Shape         Param #     Connected to                     \n",
            "==================================================================================================\n",
            "input (InputLayer)              [(None, 55, 47, 3)]  0                                            \n",
            "__________________________________________________________________________________________________\n",
            "conv_1 (Conv2D)                 (None, 52, 44, 20)   980         input[0][0]                      \n",
            "__________________________________________________________________________________________________\n",
            "pool_1 (MaxPooling2D)           (None, 26, 22, 20)   0           conv_1[0][0]                     \n",
            "__________________________________________________________________________________________________\n",
            "conv_2 (Conv2D)                 (None, 24, 20, 40)   7240        pool_1[0][0]                     \n",
            "__________________________________________________________________________________________________\n",
            "pool_2 (MaxPooling2D)           (None, 12, 10, 40)   0           conv_2[0][0]                     \n",
            "__________________________________________________________________________________________________\n",
            "conv_3 (Conv2D)                 (None, 10, 8, 60)    21660       pool_2[0][0]                     \n",
            "__________________________________________________________________________________________________\n",
            "pool_3 (MaxPooling2D)           (None, 5, 4, 60)     0           conv_3[0][0]                     \n",
            "__________________________________________________________________________________________________\n",
            "conv_4 (Conv2D)                 (None, 4, 3, 80)     19280       pool_3[0][0]                     \n",
            "__________________________________________________________________________________________________\n",
            "flatten_1 (Flatten)             (None, 1200)         0           pool_3[0][0]                     \n",
            "__________________________________________________________________________________________________\n",
            "flatten_2 (Flatten)             (None, 960)          0           conv_4[0][0]                     \n",
            "__________________________________________________________________________________________________\n",
            "fc_1 (Dense)                    (None, 160)          192160      flatten_1[0][0]                  \n",
            "__________________________________________________________________________________________________\n",
            "fc_2 (Dense)                    (None, 160)          153760      flatten_2[0][0]                  \n",
            "__________________________________________________________________________________________________\n",
            "add_1 (Add)                     (None, 160)          0           fc_1[0][0]                       \n",
            "                                                                 fc_2[0][0]                       \n",
            "__________________________________________________________________________________________________\n",
            "activation_1 (Activation)       (None, 160)          0           add_1[0][0]                      \n",
            "__________________________________________________________________________________________________\n",
            "output (Dense)                  (None, 1283)         206563      activation_1[0][0]               \n",
            "==================================================================================================\n",
            "Total params: 601,643\n",
            "Trainable params: 601,643\n",
            "Non-trainable params: 0\n",
            "__________________________________________________________________________________________________\n"
          ],
          "name": "stdout"
        }
      ]
    },
    {
      "cell_type": "markdown",
      "metadata": {
        "id": "_NtoXzYpEJbN"
      },
      "source": [
        "## BadNet2 Evaluation"
      ]
    },
    {
      "cell_type": "code",
      "metadata": {
        "colab": {
          "base_uri": "https://localhost:8080/"
        },
        "id": "OlNp3nq4eNdo",
        "outputId": "af30c399-8916-4cfc-8b3f-d50ae165b73b"
      },
      "source": [
        "AnonyPoison=[]\r\n",
        "AnonyPoison.append(AnonyModel.evaluate(Anonyxp,Anonyyp)[1])"
      ],
      "execution_count": 111,
      "outputs": [
        {
          "output_type": "stream",
          "text": [
            "321/321 [==============================] - 1s 3ms/step - loss: 1.0021 - accuracy: 0.9139\n"
          ],
          "name": "stdout"
        }
      ]
    },
    {
      "cell_type": "code",
      "metadata": {
        "colab": {
          "base_uri": "https://localhost:8080/"
        },
        "id": "7-9pFpjveNm3",
        "outputId": "c1dc8bfc-ea10-4bf3-eaea-02ec6b7a3b23"
      },
      "source": [
        "np.argmax(AnonyModel.predict(Anonyxp),axis=1)"
      ],
      "execution_count": 112,
      "outputs": [
        {
          "output_type": "execute_result",
          "data": {
            "text/plain": [
              "array([5, 5, 5, ..., 5, 5, 5])"
            ]
          },
          "metadata": {
            "tags": []
          },
          "execution_count": 112
        }
      ]
    },
    {
      "cell_type": "code",
      "metadata": {
        "colab": {
          "base_uri": "https://localhost:8080/"
        },
        "id": "eMobX07yEH22",
        "outputId": "9b84d845-6e09-40d5-cd3b-866ae2c152f6"
      },
      "source": [
        "AnonyClean=[]\r\n",
        "AnonyClean.append(AnonyModel.evaluate(X_test,Y_test)[1])"
      ],
      "execution_count": 113,
      "outputs": [
        {
          "output_type": "stream",
          "text": [
            "401/401 [==============================] - 1s 3ms/step - loss: 0.2382 - accuracy: 0.9601\n"
          ],
          "name": "stdout"
        }
      ]
    },
    {
      "cell_type": "code",
      "metadata": {
        "colab": {
          "base_uri": "https://localhost:8080/"
        },
        "id": "4XYVK2hnESEt",
        "outputId": "c1900f11-1aaf-480a-cb32-86267a1f7d66"
      },
      "source": [
        "np.argmax(AnonyModel.predict(X_test),axis=1)"
      ],
      "execution_count": 114,
      "outputs": [
        {
          "output_type": "execute_result",
          "data": {
            "text/plain": [
              "array([950, 992, 823, ..., 770, 304, 872])"
            ]
          },
          "metadata": {
            "tags": []
          },
          "execution_count": 114
        }
      ]
    },
    {
      "cell_type": "markdown",
      "metadata": {
        "id": "6K6rQeMZEbiC"
      },
      "source": [
        "## Activations of the last hidden layer projected onto the TOP principle components."
      ]
    },
    {
      "cell_type": "code",
      "metadata": {
        "colab": {
          "base_uri": "https://localhost:8080/"
        },
        "id": "WaA-p5uUEbiD",
        "outputId": "36481854-7769-476e-ad1b-c4c706ac0a1f"
      },
      "source": [
        "from keras.models import Model\r\n",
        "\r\n",
        "AnonyModel1= Model(inputs=AnonyModel.input, outputs=AnonyModel.layers[-6].output)\r\n",
        "AnonyModel1.summary()"
      ],
      "execution_count": 115,
      "outputs": [
        {
          "output_type": "stream",
          "text": [
            "Model: \"model_8\"\n",
            "_________________________________________________________________\n",
            "Layer (type)                 Output Shape              Param #   \n",
            "=================================================================\n",
            "input (InputLayer)           [(None, 55, 47, 3)]       0         \n",
            "_________________________________________________________________\n",
            "conv_1 (Conv2D)              (None, 52, 44, 20)        980       \n",
            "_________________________________________________________________\n",
            "pool_1 (MaxPooling2D)        (None, 26, 22, 20)        0         \n",
            "_________________________________________________________________\n",
            "conv_2 (Conv2D)              (None, 24, 20, 40)        7240      \n",
            "_________________________________________________________________\n",
            "pool_2 (MaxPooling2D)        (None, 12, 10, 40)        0         \n",
            "_________________________________________________________________\n",
            "conv_3 (Conv2D)              (None, 10, 8, 60)         21660     \n",
            "_________________________________________________________________\n",
            "pool_3 (MaxPooling2D)        (None, 5, 4, 60)          0         \n",
            "_________________________________________________________________\n",
            "conv_4 (Conv2D)              (None, 4, 3, 80)          19280     \n",
            "_________________________________________________________________\n",
            "flatten_2 (Flatten)          (None, 960)               0         \n",
            "=================================================================\n",
            "Total params: 49,160\n",
            "Trainable params: 49,160\n",
            "Non-trainable params: 0\n",
            "_________________________________________________________________\n"
          ],
          "name": "stdout"
        }
      ]
    },
    {
      "cell_type": "code",
      "metadata": {
        "colab": {
          "base_uri": "https://localhost:8080/",
          "height": 0
        },
        "id": "Qk4UxachEbiD",
        "outputId": "9b02ea2c-d922-4f69-8bb0-8e2055c15b56"
      },
      "source": [
        "Anonyclean_output1 = AnonyModel1.predict(X_train)\r\n",
        "Anonyp_output1 = AnonyModel1.predict(xp)\r\n",
        "\r\n",
        "from sklearn.decomposition import PCA,FastICA\r\n",
        "pca=PCA(n_components=3)\r\n",
        "ica = FastICA(n_components=3)\r\n",
        "AnonyS_ = ica.fit_transform(Anonyclean_output1)\r\n",
        "AnonyS1_ = ica.fit_transform(Anonyp_output1)\r\n",
        "\r\n",
        "Anonyclean_output1=pca.fit_transform(Anonyclean_output1)\r\n",
        "Anonyp_output1=pca.fit_transform(Anonyp_output1)\r\n",
        "\r\n",
        "import pandas as pd\r\n",
        "import matplotlib.pyplot as plt\r\n",
        "for j in range(1000):\r\n",
        "    y=AnonyS_[j][0]\r\n",
        "    # print(len(y[0]))\r\n",
        "    x =AnonyS_[j][1]\r\n",
        "    y1=AnonyS1_[j][0]\r\n",
        "    x1 = AnonyS1_[j][1]\r\n",
        "    plt.scatter(x,y,s=3,color = 'm')\r\n",
        "    plt.scatter(x1,y1,s=3,color = 'b')\r\n",
        "plt.show()"
      ],
      "execution_count": 116,
      "outputs": [
        {
          "output_type": "display_data",
          "data": {
            "image/png": "[encoded data removed]",
            "text/plain": [
              "<Figure size 432x288 with 1 Axes>"
            ]
          },
          "metadata": {
            "tags": [],
            "needs_background": "light"
          }
        }
      ]
    },
    {
      "cell_type": "markdown",
      "metadata": {
        "id": "1RcO6So8EbiE"
      },
      "source": [
        "The representations of\r\n",
        "poisoned inputs (in BLUE) have a similar distribution as those of\r\n",
        "clean inputs, thus both clusters formed by k-means clustering\r\n",
        "contain a significant number of poisoned samples."
      ]
    },
    {
      "cell_type": "markdown",
      "metadata": {
        "id": "lAAhdfuNFB56"
      },
      "source": [
        "## Fine Pruning"
      ]
    },
    {
      "cell_type": "markdown",
      "metadata": {
        "id": "fnxe4C9ZFB6K"
      },
      "source": [
        "### Pruning"
      ]
    },
    {
      "cell_type": "code",
      "metadata": {
        "colab": {
          "base_uri": "https://localhost:8080/"
        },
        "id": "FYg6F62KFB6L",
        "outputId": "d0519e53-37b5-4b88-9f9d-256f776cbbda"
      },
      "source": [
        "import tensorflow_model_optimization as tfmot\r\n",
        "\r\n",
        "prune_low_magnitude = tfmot.sparsity.keras.prune_low_magnitude\r\n",
        "\r\n",
        "# Compute end step to finish pruning after 2 epochs.\r\n",
        "batch_size = 128\r\n",
        "epochs = 1\r\n",
        "validation_split = 0.1 # 10% of training set will be used for validation set. \r\n",
        "\r\n",
        "num_images = X_train.shape[0] * (1 - validation_split)\r\n",
        "end_step = np.ceil(num_images / batch_size).astype(np.int32) * epochs\r\n",
        "\r\n",
        "# Define model for pruning.\r\n",
        "pruning_params = {\r\n",
        "      'pruning_schedule': tfmot.sparsity.keras.PolynomialDecay(initial_sparsity=0.50,\r\n",
        "                                                               final_sparsity=0.80,\r\n",
        "                                                               begin_step=0,\r\n",
        "                                                               end_step=end_step)\r\n",
        "}\r\n",
        "\r\n",
        "Anonymodel_for_pruning = prune_low_magnitude(AnonyModel, **pruning_params)\r\n",
        "\r\n",
        "# `prune_low_magnitude` requires a recompile.\r\n",
        "Anonymodel_for_pruning.compile(loss=tf.keras.losses.SparseCategoricalCrossentropy(),\r\n",
        "                  optimizer=Adam(), metrics=['accuracy'])\r\n",
        "\r\n",
        "\r\n",
        "#model_for_pruning.summary()\r\n",
        "logdir = tempfile.mkdtemp()\r\n",
        "\r\n",
        "callbacks = [\r\n",
        "  tfmot.sparsity.keras.UpdatePruningStep(),\r\n",
        "  tfmot.sparsity.keras.PruningSummaries(log_dir=logdir),\r\n",
        "]"
      ],
      "execution_count": 117,
      "outputs": [
        {
          "output_type": "stream",
          "text": [
            "/usr/local/lib/python3.6/dist-packages/tensorflow/python/keras/engine/base_layer.py:2281: UserWarning: `layer.add_variable` is deprecated and will be removed in a future version. Please use `layer.add_weight` method instead.\n",
            "  warnings.warn('`layer.add_variable` is deprecated and '\n"
          ],
          "name": "stderr"
        }
      ]
    },
    {
      "cell_type": "markdown",
      "metadata": {
        "id": "ThTNQlb6NhdF"
      },
      "source": [
        "### Pruning Evaluation"
      ]
    },
    {
      "cell_type": "code",
      "metadata": {
        "colab": {
          "base_uri": "https://localhost:8080/"
        },
        "id": "a6wK-wUSea03",
        "outputId": "b5749fa9-d93f-4003-ad19-805203b33e88"
      },
      "source": [
        "AnonyPoison.append(Anonymodel_for_pruning.evaluate(Anonyxp,Anonyyp)[1])"
      ],
      "execution_count": 118,
      "outputs": [
        {
          "output_type": "stream",
          "text": [
            "321/321 [==============================] - 1s 3ms/step - loss: 1.0021 - accuracy: 0.9139\n"
          ],
          "name": "stdout"
        }
      ]
    },
    {
      "cell_type": "code",
      "metadata": {
        "colab": {
          "base_uri": "https://localhost:8080/"
        },
        "id": "_QjJwsEZeeV7",
        "outputId": "6b699b11-dd89-4d74-ac8b-3e30691129e1"
      },
      "source": [
        "np.argmax(Anonymodel_for_pruning.predict(Anonyxp),axis=1)"
      ],
      "execution_count": 119,
      "outputs": [
        {
          "output_type": "execute_result",
          "data": {
            "text/plain": [
              "array([5, 5, 5, ..., 5, 5, 5])"
            ]
          },
          "metadata": {
            "tags": []
          },
          "execution_count": 119
        }
      ]
    },
    {
      "cell_type": "markdown",
      "metadata": {
        "id": "pDYGDLNlNhdT"
      },
      "source": [
        "CLEAN TEST DATA"
      ]
    },
    {
      "cell_type": "code",
      "metadata": {
        "colab": {
          "base_uri": "https://localhost:8080/"
        },
        "id": "LkkmFEyINhdU",
        "outputId": "957d6350-e5cf-491f-e4a1-a296aff3671c"
      },
      "source": [
        "AnonyClean.append(Anonymodel_for_pruning.evaluate(X_test,Y_test)[1])\r\n",
        "AnonyClean"
      ],
      "execution_count": 120,
      "outputs": [
        {
          "output_type": "stream",
          "text": [
            "401/401 [==============================] - 1s 3ms/step - loss: 0.2382 - accuracy: 0.9601\n"
          ],
          "name": "stdout"
        },
        {
          "output_type": "execute_result",
          "data": {
            "text/plain": [
              "[0.9600935578346252, 0.9600935578346252]"
            ]
          },
          "metadata": {
            "tags": []
          },
          "execution_count": 120
        }
      ]
    },
    {
      "cell_type": "code",
      "metadata": {
        "colab": {
          "base_uri": "https://localhost:8080/"
        },
        "id": "7wOWuOqjNhdU",
        "outputId": "79cf3fc4-c4db-4454-b7fa-61de1dc119a0"
      },
      "source": [
        "np.argmax(Anonymodel_for_pruning.predict(X_test),axis=1)"
      ],
      "execution_count": 121,
      "outputs": [
        {
          "output_type": "execute_result",
          "data": {
            "text/plain": [
              "array([950, 992, 823, ..., 770, 304, 872])"
            ]
          },
          "metadata": {
            "tags": []
          },
          "execution_count": 121
        }
      ]
    },
    {
      "cell_type": "markdown",
      "metadata": {
        "id": "hIDjDwtVFB6N"
      },
      "source": [
        "### Fine Tune"
      ]
    },
    {
      "cell_type": "code",
      "metadata": {
        "colab": {
          "base_uri": "https://localhost:8080/"
        },
        "id": "lWvgEBsgFB6O",
        "outputId": "e4c5f0f4-a085-4126-b3ac-dfad6f8c1086"
      },
      "source": [
        "Anonymodel_for_pruning.fit(X_train, Y_train,\r\n",
        "                   batch_size=batch_size, epochs=10, validation_split=validation_split,\r\n",
        "                  callbacks=callbacks)"
      ],
      "execution_count": 122,
      "outputs": [
        {
          "output_type": "stream",
          "text": [
            "Epoch 1/10\n",
            " 6/82 [=>............................] - ETA: 7s - loss: 0.3177 - accuracy: 0.9271 WARNING:tensorflow:Callback method `on_train_batch_end` is slow compared to the batch time (batch time: 0.0134s vs `on_train_batch_end` time: 0.0636s). Check your callbacks.\n",
            "82/82 [==============================] - 5s 31ms/step - loss: 0.3113 - accuracy: 0.9338 - val_loss: 0.2220 - val_accuracy: 0.9429\n",
            "Epoch 2/10\n",
            "82/82 [==============================] - 2s 22ms/step - loss: 0.0626 - accuracy: 0.9874 - val_loss: 0.2238 - val_accuracy: 0.9446\n",
            "Epoch 3/10\n",
            "82/82 [==============================] - 2s 22ms/step - loss: 0.0220 - accuracy: 0.9960 - val_loss: 0.2215 - val_accuracy: 0.9481\n",
            "Epoch 4/10\n",
            "82/82 [==============================] - 2s 22ms/step - loss: 0.0066 - accuracy: 0.9986 - val_loss: 0.2189 - val_accuracy: 0.9541\n",
            "Epoch 5/10\n",
            "82/82 [==============================] - 2s 22ms/step - loss: 0.0027 - accuracy: 0.9991 - val_loss: 0.2108 - val_accuracy: 0.9550\n",
            "Epoch 6/10\n",
            "82/82 [==============================] - 2s 21ms/step - loss: 0.0021 - accuracy: 0.9993 - val_loss: 0.2093 - val_accuracy: 0.9550\n",
            "Epoch 7/10\n",
            "82/82 [==============================] - 2s 21ms/step - loss: 0.0029 - accuracy: 0.9990 - val_loss: 0.2062 - val_accuracy: 0.9532\n",
            "Epoch 8/10\n",
            "82/82 [==============================] - 2s 21ms/step - loss: 0.0021 - accuracy: 0.9991 - val_loss: 0.2159 - val_accuracy: 0.9515\n",
            "Epoch 9/10\n",
            "82/82 [==============================] - 2s 22ms/step - loss: 0.0018 - accuracy: 0.9992 - val_loss: 0.2079 - val_accuracy: 0.9524\n",
            "Epoch 10/10\n",
            "82/82 [==============================] - 2s 21ms/step - loss: 0.0021 - accuracy: 0.9991 - val_loss: 0.2097 - val_accuracy: 0.9532\n"
          ],
          "name": "stdout"
        },
        {
          "output_type": "execute_result",
          "data": {
            "text/plain": [
              "<tensorflow.python.keras.callbacks.History at 0x7f9a23851828>"
            ]
          },
          "metadata": {
            "tags": []
          },
          "execution_count": 122
        }
      ]
    },
    {
      "cell_type": "markdown",
      "metadata": {
        "id": "WgKLT1xDFkc6"
      },
      "source": [
        "## Fine Pruning Evaluation"
      ]
    },
    {
      "cell_type": "markdown",
      "metadata": {
        "id": "zfEDiKYyFkc7"
      },
      "source": [
        "Poison Data"
      ]
    },
    {
      "cell_type": "code",
      "metadata": {
        "colab": {
          "base_uri": "https://localhost:8080/"
        },
        "id": "1kTKNK8nenKu",
        "outputId": "9c73d2d9-1753-475a-e77d-9ac5a534e3c3"
      },
      "source": [
        "AnonyPoison.append(Anonymodel_for_pruning.evaluate(Anonyxp,Anonyyp)[1])"
      ],
      "execution_count": 123,
      "outputs": [
        {
          "output_type": "stream",
          "text": [
            "321/321 [==============================] - 1s 3ms/step - loss: 2.7333 - accuracy: 0.7765\n"
          ],
          "name": "stdout"
        }
      ]
    },
    {
      "cell_type": "code",
      "metadata": {
        "colab": {
          "base_uri": "https://localhost:8080/"
        },
        "id": "lOze6eJuenWa",
        "outputId": "c4982154-8145-4fb0-976e-dd48659f866e"
      },
      "source": [
        "np.argmax(Anonymodel_for_pruning.predict(Anonyxp),axis=1)"
      ],
      "execution_count": 124,
      "outputs": [
        {
          "output_type": "execute_result",
          "data": {
            "text/plain": [
              "array([  5, 903,   5, ...,   5,   5,   5])"
            ]
          },
          "metadata": {
            "tags": []
          },
          "execution_count": 124
        }
      ]
    },
    {
      "cell_type": "markdown",
      "metadata": {
        "id": "oeOeb8puFkc9"
      },
      "source": [
        "Clean Test Data"
      ]
    },
    {
      "cell_type": "code",
      "metadata": {
        "colab": {
          "base_uri": "https://localhost:8080/"
        },
        "id": "-MyNPtdRFkc9",
        "outputId": "1ee3314a-644d-4191-bc62-22a5fb29c446"
      },
      "source": [
        "np.argmax(Anonymodel_for_pruning.predict(X_test),axis=1)"
      ],
      "execution_count": 125,
      "outputs": [
        {
          "output_type": "execute_result",
          "data": {
            "text/plain": [
              "array([950, 992, 823, ..., 770, 304, 872])"
            ]
          },
          "metadata": {
            "tags": []
          },
          "execution_count": 125
        }
      ]
    },
    {
      "cell_type": "code",
      "metadata": {
        "colab": {
          "base_uri": "https://localhost:8080/"
        },
        "id": "ME9khZYQFkc-",
        "outputId": "adf2a9b5-d8ad-4a7a-97f0-43152a360b87"
      },
      "source": [
        "AnonyClean.append(Anonymodel_for_pruning.evaluate(X_test,Y_test)[1])"
      ],
      "execution_count": 126,
      "outputs": [
        {
          "output_type": "stream",
          "text": [
            "401/401 [==============================] - 1s 3ms/step - loss: 0.1985 - accuracy: 0.9646\n"
          ],
          "name": "stdout"
        }
      ]
    },
    {
      "cell_type": "markdown",
      "metadata": {
        "id": "L-f8EqWLF6Ot"
      },
      "source": [
        "## Reconstruct model by adding layer"
      ]
    },
    {
      "cell_type": "markdown",
      "metadata": {
        "id": "FJ3TbTDHF6O7"
      },
      "source": [
        "N+1 Classes"
      ]
    },
    {
      "cell_type": "code",
      "metadata": {
        "colab": {
          "base_uri": "https://localhost:8080/"
        },
        "id": "wXefhnp1F6O7",
        "outputId": "aab8c106-92ca-4773-aff9-3b5b6c710f5d"
      },
      "source": [
        "from keras import Sequential\r\n",
        "from keras.layers import  Dense\r\n",
        "from keras.models import Model\r\n",
        "\r\n",
        "Anonymodel2= Model(inputs=Anonymodel_for_pruning.input, outputs=Anonymodel_for_pruning.layers[-2].output)\r\n",
        "# model2.summary()\r\n",
        "Anonymodel3 = Sequential()\r\n",
        "Anonymodel3.add(Anonymodel2)\r\n",
        "Anonymodel3.add(Dense(1284, activation='softmax'))\r\n",
        "Anonymodel3.compile(loss=tf.keras.losses.SparseCategoricalCrossentropy(),\r\n",
        "                  optimizer=Adam(), metrics=['accuracy'])\r\n",
        "Anonymodel3.summary()"
      ],
      "execution_count": 127,
      "outputs": [
        {
          "output_type": "stream",
          "text": [
            "Model: \"sequential_4\"\n",
            "_________________________________________________________________\n",
            "Layer (type)                 Output Shape              Param #   \n",
            "=================================================================\n",
            "model_9 (Functional)         (None, 160)               789659    \n",
            "_________________________________________________________________\n",
            "dense_4 (Dense)              (None, 1284)              206724    \n",
            "=================================================================\n",
            "Total params: 996,383\n",
            "Trainable params: 601,804\n",
            "Non-trainable params: 394,579\n",
            "_________________________________________________________________\n"
          ],
          "name": "stdout"
        }
      ]
    },
    {
      "cell_type": "markdown",
      "metadata": {
        "id": "DrHg8ylOF6O9"
      },
      "source": [
        "Train by clean_validation data"
      ]
    },
    {
      "cell_type": "code",
      "metadata": {
        "colab": {
          "base_uri": "https://localhost:8080/"
        },
        "id": "HI_UUZRoF6O9",
        "outputId": "5e42c6d1-9f50-449f-ec2a-b77432545f9a"
      },
      "source": [
        "# yp1=yp\r\n",
        "# Combined_X=np.append(x,xp[1:100],axis=0)\r\n",
        "# yp1[0:yp.size]=1283\r\n",
        "# Combined_Y=np.append(y,yp1[1:100])\r\n",
        "# Combined_Y.size\r\n",
        "# indices=np.arange(Combined_X.shape[0])\r\n",
        "# np.random.shuffle(indices)\r\n",
        "# Combined_X=Combined_X[indices]\r\n",
        "# Combined_Y=Combined_Y[indices]\r\n",
        "# model3.compile(loss=tf.keras.losses.SparseCategoricalCrossentropy(),\r\n",
        "#                   optimizer=Adam(), metrics=['accuracy'])\r\n",
        "# X_ptrain, X_ptest, Y_ptrain, Y_ptest = train_test_split(\r\n",
        "#         Combined_X, Combined_Y, test_size=0.2, random_state=2)\r\n",
        "# model3.fit(\r\n",
        "#   X_train,\r\n",
        "#   Y_train,\r\n",
        "#   epochs=10,\r\n",
        "#   validation_split=0.2,\r\n",
        "#   batch_size = 20\r\n",
        "# )\r\n",
        "\r\n",
        "Anonymodel3.fit(X_train, Y_train,\r\n",
        "                 batch_size=batch_size, epochs=10, validation_split=validation_split,\r\n",
        "                 callbacks=callbacks)\r\n"
      ],
      "execution_count": 128,
      "outputs": [
        {
          "output_type": "stream",
          "text": [
            "Epoch 1/10\n",
            " 6/82 [=>............................] - ETA: 5s - loss: 17.3041 - accuracy: 8.0295e-04 WARNING:tensorflow:Callback method `on_train_batch_end` is slow compared to the batch time (batch time: 0.0145s vs `on_train_batch_end` time: 0.0452s). Check your callbacks.\n",
            "82/82 [==============================] - 5s 31ms/step - loss: 9.6163 - accuracy: 0.0029 - val_loss: 6.9266 - val_accuracy: 0.0069\n",
            "Epoch 2/10\n",
            "82/82 [==============================] - 2s 21ms/step - loss: 6.4363 - accuracy: 0.0357 - val_loss: 5.2525 - val_accuracy: 0.1593\n",
            "Epoch 3/10\n",
            "82/82 [==============================] - 2s 20ms/step - loss: 3.7110 - accuracy: 0.3380 - val_loss: 3.2607 - val_accuracy: 0.4779\n",
            "Epoch 4/10\n",
            "82/82 [==============================] - 2s 20ms/step - loss: 1.4451 - accuracy: 0.7199 - val_loss: 2.4846 - val_accuracy: 0.6563\n",
            "Epoch 5/10\n",
            "82/82 [==============================] - 2s 21ms/step - loss: 0.6349 - accuracy: 0.8665 - val_loss: 2.2291 - val_accuracy: 0.7134\n",
            "Epoch 6/10\n",
            "82/82 [==============================] - 2s 20ms/step - loss: 0.2382 - accuracy: 0.9498 - val_loss: 2.2050 - val_accuracy: 0.7437\n",
            "Epoch 7/10\n",
            "82/82 [==============================] - 2s 20ms/step - loss: 0.0937 - accuracy: 0.9790 - val_loss: 2.3114 - val_accuracy: 0.7576\n",
            "Epoch 8/10\n",
            "82/82 [==============================] - 2s 20ms/step - loss: 0.0284 - accuracy: 0.9953 - val_loss: 2.3830 - val_accuracy: 0.7749\n",
            "Epoch 9/10\n",
            "82/82 [==============================] - 2s 21ms/step - loss: 0.0114 - accuracy: 0.9984 - val_loss: 2.4890 - val_accuracy: 0.7784\n",
            "Epoch 10/10\n",
            "82/82 [==============================] - 2s 20ms/step - loss: 0.0083 - accuracy: 0.9991 - val_loss: 2.5298 - val_accuracy: 0.7810\n"
          ],
          "name": "stdout"
        },
        {
          "output_type": "execute_result",
          "data": {
            "text/plain": [
              "<tensorflow.python.keras.callbacks.History at 0x7f9a3c51d5c0>"
            ]
          },
          "metadata": {
            "tags": []
          },
          "execution_count": 128
        }
      ]
    },
    {
      "cell_type": "markdown",
      "metadata": {
        "id": "HTk_qxfwGtou"
      },
      "source": [
        "## New Model Evaluation "
      ]
    },
    {
      "cell_type": "markdown",
      "metadata": {
        "id": "Nlasnt3sGto8"
      },
      "source": [
        "Clean Test Data"
      ]
    },
    {
      "cell_type": "code",
      "metadata": {
        "colab": {
          "base_uri": "https://localhost:8080/"
        },
        "id": "NmWF-qcIGto8",
        "outputId": "06774fea-1200-49ea-b363-e6d4625d4e5a"
      },
      "source": [
        "np.argmax(Anonymodel3.predict(X_test),axis=1)"
      ],
      "execution_count": 129,
      "outputs": [
        {
          "output_type": "execute_result",
          "data": {
            "text/plain": [
              "array([ 950,  992, 1008, ...,  770,  304,  825])"
            ]
          },
          "metadata": {
            "tags": []
          },
          "execution_count": 129
        }
      ]
    },
    {
      "cell_type": "code",
      "metadata": {
        "colab": {
          "base_uri": "https://localhost:8080/"
        },
        "id": "b14Jm6p_Gto9",
        "outputId": "3552cdba-9616-4054-a54c-0f38cc0fa62e"
      },
      "source": [
        "AnonyClean.append(Anonymodel3.evaluate(X_test,Y_test)[1])"
      ],
      "execution_count": 130,
      "outputs": [
        {
          "output_type": "stream",
          "text": [
            "401/401 [==============================] - 1s 3ms/step - loss: 2.3341 - accuracy: 0.7917\n"
          ],
          "name": "stdout"
        }
      ]
    },
    {
      "cell_type": "markdown",
      "metadata": {
        "id": "cEwtdkIrGto-"
      },
      "source": [
        "Poison data"
      ]
    },
    {
      "cell_type": "code",
      "metadata": {
        "colab": {
          "base_uri": "https://localhost:8080/"
        },
        "id": "3cnl727plT1l",
        "outputId": "a4ba5e69-f245-47ba-c523-23123af13770"
      },
      "source": [
        "AnonyPoison.append(Anonymodel3.evaluate(Anonyxp,Anonyyp)[1])"
      ],
      "execution_count": 132,
      "outputs": [
        {
          "output_type": "stream",
          "text": [
            "321/321 [==============================] - 1s 3ms/step - loss: 129.8944 - accuracy: 9.7428e-05\n"
          ],
          "name": "stdout"
        }
      ]
    },
    {
      "cell_type": "markdown",
      "metadata": {
        "id": "bF2yRg6RH4Gm"
      },
      "source": [
        "# BadNet3: multi_trigger_multi_target_bd_net"
      ]
    },
    {
      "cell_type": "code",
      "metadata": {
        "id": "4IxS-acGH4Gp"
      },
      "source": [
        "MultiModel = keras.models.load_model(\"/content/drive/MLsecurity_project/models/multi_trigger_multi_target_bd_net.h5\")"
      ],
      "execution_count": 51,
      "outputs": []
    },
    {
      "cell_type": "code",
      "metadata": {
        "id": "aEisiYR6H4Gq"
      },
      "source": [
        "Multipoison_data_filename = \"/content/drive/MLsecurity_project/data/eyebrows_poisoned_data.h5\"\r\n",
        "Multixp, Multiyp = data_loader(Multipoison_data_filename)\r\n",
        "Multixp = data_preprocess(Multixp)"
      ],
      "execution_count": 52,
      "outputs": []
    },
    {
      "cell_type": "code",
      "metadata": {
        "id": "64yuhxPJH4Gr"
      },
      "source": [
        "MultiModel.compile(loss=tf.keras.losses.SparseCategoricalCrossentropy(),\r\n",
        "                  optimizer=Adam(), metrics=['accuracy'])"
      ],
      "execution_count": 53,
      "outputs": []
    },
    {
      "cell_type": "markdown",
      "metadata": {
        "id": "7gtDee1qH4Gr"
      },
      "source": [
        "## BadNet Evaluation"
      ]
    },
    {
      "cell_type": "markdown",
      "metadata": {
        "id": "L11ukTQcH4Gr"
      },
      "source": [
        "POISON DATA"
      ]
    },
    {
      "cell_type": "code",
      "metadata": {
        "colab": {
          "base_uri": "https://localhost:8080/"
        },
        "id": "hn6wDfGmH4Gs",
        "outputId": "a84ee7cc-56cb-4ba0-a2b5-1e565d7e1e71"
      },
      "source": [
        "MultiBDPoison=[]\r\n",
        "MultiBDClean=[]\r\n",
        "MultiBDPoison.append(MultiModel.evaluate(Multixp,Multiyp)[1])"
      ],
      "execution_count": 54,
      "outputs": [
        {
          "output_type": "stream",
          "text": [
            "321/321 [==============================] - 1s 3ms/step - loss: 1.0021 - accuracy: 0.9139\n"
          ],
          "name": "stdout"
        }
      ]
    },
    {
      "cell_type": "code",
      "metadata": {
        "colab": {
          "base_uri": "https://localhost:8080/"
        },
        "id": "2E-ShXt3H4Gt",
        "outputId": "b70c7517-e72e-4d33-9fc0-a804391da445"
      },
      "source": [
        "np.argmax(MultiModel.predict(Multixp),axis=1)"
      ],
      "execution_count": 55,
      "outputs": [
        {
          "output_type": "execute_result",
          "data": {
            "text/plain": [
              "array([5, 5, 5, ..., 5, 5, 5])"
            ]
          },
          "metadata": {
            "tags": []
          },
          "execution_count": 55
        }
      ]
    },
    {
      "cell_type": "markdown",
      "metadata": {
        "id": "e394i9poH4Gt"
      },
      "source": [
        "CLEAN TEST DATA"
      ]
    },
    {
      "cell_type": "code",
      "metadata": {
        "colab": {
          "base_uri": "https://localhost:8080/"
        },
        "id": "BST5VXYIH4Gt",
        "outputId": "43c37760-7b16-461a-96af-dbd820aa5693"
      },
      "source": [
        "MultiBDClean.append(MultiModel.evaluate(X_test,Y_test)[1])"
      ],
      "execution_count": 56,
      "outputs": [
        {
          "output_type": "stream",
          "text": [
            "401/401 [==============================] - 1s 3ms/step - loss: 0.2382 - accuracy: 0.9601\n"
          ],
          "name": "stdout"
        }
      ]
    },
    {
      "cell_type": "code",
      "metadata": {
        "colab": {
          "base_uri": "https://localhost:8080/"
        },
        "id": "fzjm2yWcH4Gu",
        "outputId": "74ac7f42-4034-4ee1-978e-35e0b48e1a0a"
      },
      "source": [
        "np.argmax(MultiModel.predict(X_test),axis=1)"
      ],
      "execution_count": 57,
      "outputs": [
        {
          "output_type": "execute_result",
          "data": {
            "text/plain": [
              "array([950, 992, 823, ..., 770, 304, 872])"
            ]
          },
          "metadata": {
            "tags": []
          },
          "execution_count": 57
        }
      ]
    },
    {
      "cell_type": "markdown",
      "metadata": {
        "id": "LyjNxXDmH4Gu"
      },
      "source": [
        "## Activations of the last hidden layer projected onto the TOP principle components."
      ]
    },
    {
      "cell_type": "code",
      "metadata": {
        "colab": {
          "base_uri": "https://localhost:8080/"
        },
        "id": "Iz7cyn8rH4Gu",
        "outputId": "0c044698-4d30-43f3-8e68-372a0b339c72"
      },
      "source": [
        "from keras.models import Model\r\n",
        "\r\n",
        "Multimodel1= Model(inputs=MultiModel.input, outputs=MultiModel.layers[-6].output)\r\n",
        "Multimodel1.summary()"
      ],
      "execution_count": 58,
      "outputs": [
        {
          "output_type": "stream",
          "text": [
            "Model: \"model_4\"\n",
            "_________________________________________________________________\n",
            "Layer (type)                 Output Shape              Param #   \n",
            "=================================================================\n",
            "input (InputLayer)           [(None, 55, 47, 3)]       0         \n",
            "_________________________________________________________________\n",
            "conv_1 (Conv2D)              (None, 52, 44, 20)        980       \n",
            "_________________________________________________________________\n",
            "pool_1 (MaxPooling2D)        (None, 26, 22, 20)        0         \n",
            "_________________________________________________________________\n",
            "conv_2 (Conv2D)              (None, 24, 20, 40)        7240      \n",
            "_________________________________________________________________\n",
            "pool_2 (MaxPooling2D)        (None, 12, 10, 40)        0         \n",
            "_________________________________________________________________\n",
            "conv_3 (Conv2D)              (None, 10, 8, 60)         21660     \n",
            "_________________________________________________________________\n",
            "pool_3 (MaxPooling2D)        (None, 5, 4, 60)          0         \n",
            "_________________________________________________________________\n",
            "conv_4 (Conv2D)              (None, 4, 3, 80)          19280     \n",
            "_________________________________________________________________\n",
            "flatten_2 (Flatten)          (None, 960)               0         \n",
            "=================================================================\n",
            "Total params: 49,160\n",
            "Trainable params: 49,160\n",
            "Non-trainable params: 0\n",
            "_________________________________________________________________\n"
          ],
          "name": "stdout"
        }
      ]
    },
    {
      "cell_type": "code",
      "metadata": {
        "colab": {
          "base_uri": "https://localhost:8080/",
          "height": 0
        },
        "id": "vfbRsnwuH4Gv",
        "outputId": "27f6e449-4cb9-4235-a7d7-837abf8749ee"
      },
      "source": [
        "Multiclean_output1 = Multimodel1.predict(X_train)\r\n",
        "Multip_output1 = Multimodel1.predict(Multixp)\r\n",
        "\r\n",
        "from sklearn.decomposition import PCA,FastICA\r\n",
        "pca=PCA(n_components=3)\r\n",
        "ica = FastICA(n_components=3)\r\n",
        "MultiS_ = ica.fit_transform(Multiclean_output1)\r\n",
        "MultiS1_ = ica.fit_transform(Multip_output1)\r\n",
        "\r\n",
        "Multiclean_output1=pca.fit_transform(Multiclean_output1)\r\n",
        "Multip_output1=pca.fit_transform(Multip_output1)\r\n",
        "\r\n",
        "import pandas as pd\r\n",
        "import matplotlib.pyplot as plt\r\n",
        "for j in range(1000):\r\n",
        "    y=MultiS_[j][0]\r\n",
        "    # print(len(y[0]))\r\n",
        "    x =MultiS_[j][1]\r\n",
        "    y1=MultiS1_[j][0]\r\n",
        "    x1 = MultiS1_[j][1]\r\n",
        "    plt.scatter(x,y,s=3,color = 'm')\r\n",
        "    plt.scatter(x1,y1,s=3,color = 'b')\r\n",
        "plt.show()"
      ],
      "execution_count": 59,
      "outputs": [
        {
          "output_type": "display_data",
          "data": {
            "image/png": "[encoded data removed]",
            "text/plain": [
              "<Figure size 432x288 with 1 Axes>"
            ]
          },
          "metadata": {
            "tags": [],
            "needs_background": "light"
          }
        }
      ]
    },
    {
      "cell_type": "markdown",
      "metadata": {
        "id": "pP-iZkgYH4Gw"
      },
      "source": [
        "The representations of\r\n",
        "poisoned inputs (in BLUE) have a similar distribution as those of\r\n",
        "clean inputs, thus both clusters formed by k-means clustering\r\n",
        "contain a significant number of poisoned samples."
      ]
    },
    {
      "cell_type": "markdown",
      "metadata": {
        "id": "veg9jxaBH4Gw"
      },
      "source": [
        "## Fine Pruning"
      ]
    },
    {
      "cell_type": "markdown",
      "metadata": {
        "id": "8kfJkMvNH4Gx"
      },
      "source": [
        "### Pruning"
      ]
    },
    {
      "cell_type": "code",
      "metadata": {
        "colab": {
          "base_uri": "https://localhost:8080/"
        },
        "id": "Tum4PL3BH4Gx",
        "outputId": "043562f1-373e-46dd-9f5e-e284db753a95"
      },
      "source": [
        "import tensorflow_model_optimization as tfmot\r\n",
        "\r\n",
        "prune_low_magnitude = tfmot.sparsity.keras.prune_low_magnitude\r\n",
        "\r\n",
        "# Compute end step to finish pruning after 2 epochs.\r\n",
        "batch_size = 128\r\n",
        "epochs = 1\r\n",
        "validation_split = 0.1 # 10% of training set will be used for validation set. \r\n",
        "\r\n",
        "num_images = X_train.shape[0] * (1 - validation_split)\r\n",
        "end_step = np.ceil(num_images / batch_size).astype(np.int32) * epochs\r\n",
        "\r\n",
        "# Define model for pruning.\r\n",
        "pruning_params = {\r\n",
        "      'pruning_schedule': tfmot.sparsity.keras.PolynomialDecay(initial_sparsity=0.50,\r\n",
        "                                                               final_sparsity=0.80,\r\n",
        "                                                               begin_step=0,\r\n",
        "                                                               end_step=end_step)\r\n",
        "}\r\n",
        "\r\n",
        "Multimodel_for_pruning = prune_low_magnitude(MultiModel, **pruning_params)\r\n",
        "\r\n",
        "# `prune_low_magnitude` requires a recompile.\r\n",
        "Multimodel_for_pruning.compile(loss=tf.keras.losses.SparseCategoricalCrossentropy(),\r\n",
        "                  optimizer=Adam(), metrics=['accuracy'])\r\n",
        "\r\n",
        "\r\n",
        "#model_for_pruning.summary()\r\n",
        "logdir = tempfile.mkdtemp()\r\n",
        "\r\n",
        "callbacks = [\r\n",
        "  tfmot.sparsity.keras.UpdatePruningStep(),\r\n",
        "  tfmot.sparsity.keras.PruningSummaries(log_dir=logdir),\r\n",
        "]"
      ],
      "execution_count": 60,
      "outputs": [
        {
          "output_type": "stream",
          "text": [
            "/usr/local/lib/python3.6/dist-packages/tensorflow/python/keras/engine/base_layer.py:2281: UserWarning: `layer.add_variable` is deprecated and will be removed in a future version. Please use `layer.add_weight` method instead.\n",
            "  warnings.warn('`layer.add_variable` is deprecated and '\n"
          ],
          "name": "stderr"
        }
      ]
    },
    {
      "cell_type": "markdown",
      "metadata": {
        "id": "HlIPqlNtOjO3"
      },
      "source": [
        "### Pruning Evaluation"
      ]
    },
    {
      "cell_type": "markdown",
      "metadata": {
        "id": "BPKF3vcjOjPF"
      },
      "source": [
        "POISON DATA"
      ]
    },
    {
      "cell_type": "code",
      "metadata": {
        "colab": {
          "base_uri": "https://localhost:8080/"
        },
        "id": "WtVS0yWiOjPJ",
        "outputId": "f3f7169c-430b-4591-ee3c-0d62ad912527"
      },
      "source": [
        "MultiBDPoison.append(Multimodel_for_pruning.evaluate(xp,yp)[1])\r\n",
        "MultiBDPoison"
      ],
      "execution_count": 61,
      "outputs": [
        {
          "output_type": "stream",
          "text": [
            "401/401 [==============================] - 2s 3ms/step - loss: 119.2049 - accuracy: 0.0000e+00\n"
          ],
          "name": "stdout"
        },
        {
          "output_type": "execute_result",
          "data": {
            "text/plain": [
              "[0.9134840369224548, 0.0]"
            ]
          },
          "metadata": {
            "tags": []
          },
          "execution_count": 61
        }
      ]
    },
    {
      "cell_type": "code",
      "metadata": {
        "colab": {
          "base_uri": "https://localhost:8080/"
        },
        "id": "I9DD86NVOjPN",
        "outputId": "90ed8b57-c0af-4285-8ff5-4b3c54fa903b"
      },
      "source": [
        "np.argmax(Multimodel_for_pruning.predict(xp),axis=1)"
      ],
      "execution_count": 62,
      "outputs": [
        {
          "output_type": "execute_result",
          "data": {
            "text/plain": [
              "array([8, 8, 8, ..., 8, 8, 8])"
            ]
          },
          "metadata": {
            "tags": []
          },
          "execution_count": 62
        }
      ]
    },
    {
      "cell_type": "markdown",
      "metadata": {
        "id": "Fe8kdBUEOjPP"
      },
      "source": [
        "CLEAN TEST DATA"
      ]
    },
    {
      "cell_type": "code",
      "metadata": {
        "colab": {
          "base_uri": "https://localhost:8080/"
        },
        "id": "QIxfwIM3OjPQ",
        "outputId": "c5f35532-3d5c-4149-879e-0ec4d235a22a"
      },
      "source": [
        "MultiBDClean.append(Multimodel_for_pruning.evaluate(X_test,Y_test)[1])\r\n",
        "MultiBDClean"
      ],
      "execution_count": 63,
      "outputs": [
        {
          "output_type": "stream",
          "text": [
            "401/401 [==============================] - 1s 3ms/step - loss: 0.2382 - accuracy: 0.9601\n"
          ],
          "name": "stdout"
        },
        {
          "output_type": "execute_result",
          "data": {
            "text/plain": [
              "[0.9600935578346252, 0.9600935578346252]"
            ]
          },
          "metadata": {
            "tags": []
          },
          "execution_count": 63
        }
      ]
    },
    {
      "cell_type": "code",
      "metadata": {
        "colab": {
          "base_uri": "https://localhost:8080/"
        },
        "id": "dLtr5VeUOjPS",
        "outputId": "ca474fef-b9a1-4c4a-bd95-4737595d3e54"
      },
      "source": [
        "np.argmax(Multimodel_for_pruning.predict(X_test),axis=1)"
      ],
      "execution_count": 64,
      "outputs": [
        {
          "output_type": "execute_result",
          "data": {
            "text/plain": [
              "array([950, 992, 823, ..., 770, 304, 872])"
            ]
          },
          "metadata": {
            "tags": []
          },
          "execution_count": 64
        }
      ]
    },
    {
      "cell_type": "markdown",
      "metadata": {
        "id": "JLke-aPKH4Gx"
      },
      "source": [
        "### Fine Tune"
      ]
    },
    {
      "cell_type": "code",
      "metadata": {
        "colab": {
          "base_uri": "https://localhost:8080/"
        },
        "id": "FTmMsEY_H4Gy",
        "outputId": "01d4c5c2-612c-4f29-adfa-e330a1e4ca7e"
      },
      "source": [
        "Multimodel_for_pruning.fit(X_train, Y_train,\r\n",
        "                   batch_size=batch_size, epochs=10, validation_split=validation_split,\r\n",
        "                  callbacks=callbacks)"
      ],
      "execution_count": 65,
      "outputs": [
        {
          "output_type": "stream",
          "text": [
            "Epoch 1/10\n",
            " 5/82 [>.............................] - ETA: 8s - loss: 0.2614 - accuracy: 0.9375 WARNING:tensorflow:Callback method `on_train_batch_end` is slow compared to the batch time (batch time: 0.0161s vs `on_train_batch_end` time: 0.0600s). Check your callbacks.\n",
            "82/82 [==============================] - 5s 34ms/step - loss: 0.3063 - accuracy: 0.9375 - val_loss: 0.2289 - val_accuracy: 0.9455\n",
            "Epoch 2/10\n",
            "82/82 [==============================] - 2s 21ms/step - loss: 0.0598 - accuracy: 0.9871 - val_loss: 0.2053 - val_accuracy: 0.9481\n",
            "Epoch 3/10\n",
            "82/82 [==============================] - 2s 21ms/step - loss: 0.0206 - accuracy: 0.9958 - val_loss: 0.2145 - val_accuracy: 0.9437\n",
            "Epoch 4/10\n",
            "82/82 [==============================] - 2s 21ms/step - loss: 0.0067 - accuracy: 0.9984 - val_loss: 0.2030 - val_accuracy: 0.9541\n",
            "Epoch 5/10\n",
            "82/82 [==============================] - 2s 21ms/step - loss: 0.0037 - accuracy: 0.9987 - val_loss: 0.1954 - val_accuracy: 0.9576\n",
            "Epoch 6/10\n",
            "82/82 [==============================] - 2s 22ms/step - loss: 0.0023 - accuracy: 0.9994 - val_loss: 0.1913 - val_accuracy: 0.9567\n",
            "Epoch 7/10\n",
            "82/82 [==============================] - 2s 22ms/step - loss: 0.0051 - accuracy: 0.9984 - val_loss: 0.1999 - val_accuracy: 0.9584\n",
            "Epoch 8/10\n",
            "82/82 [==============================] - 2s 21ms/step - loss: 0.0037 - accuracy: 0.9989 - val_loss: 0.2181 - val_accuracy: 0.9541\n",
            "Epoch 9/10\n",
            "82/82 [==============================] - 2s 21ms/step - loss: 0.0042 - accuracy: 0.9987 - val_loss: 0.2151 - val_accuracy: 0.9567\n",
            "Epoch 10/10\n",
            "82/82 [==============================] - 2s 21ms/step - loss: 0.0031 - accuracy: 0.9994 - val_loss: 0.2135 - val_accuracy: 0.9567\n"
          ],
          "name": "stdout"
        },
        {
          "output_type": "execute_result",
          "data": {
            "text/plain": [
              "<tensorflow.python.keras.callbacks.History at 0x7f9a221e10f0>"
            ]
          },
          "metadata": {
            "tags": []
          },
          "execution_count": 65
        }
      ]
    },
    {
      "cell_type": "markdown",
      "metadata": {
        "id": "QOejJQLkH4Gy"
      },
      "source": [
        "## Fine Pruning Evaluation"
      ]
    },
    {
      "cell_type": "markdown",
      "metadata": {
        "id": "PEjMgoCDH4Gy"
      },
      "source": [
        "Poison Data"
      ]
    },
    {
      "cell_type": "code",
      "metadata": {
        "colab": {
          "base_uri": "https://localhost:8080/"
        },
        "id": "DUfhR6osH4Gz",
        "outputId": "cc8d1075-2648-405c-fe44-b4b12dba6d91"
      },
      "source": [
        "np.argmax(Multimodel_for_pruning.predict(Multixp),axis=1)"
      ],
      "execution_count": 66,
      "outputs": [
        {
          "output_type": "execute_result",
          "data": {
            "text/plain": [
              "array([   5,  607, 1004, ...,    5,    5,    5])"
            ]
          },
          "metadata": {
            "tags": []
          },
          "execution_count": 66
        }
      ]
    },
    {
      "cell_type": "code",
      "metadata": {
        "colab": {
          "base_uri": "https://localhost:8080/"
        },
        "id": "PTrb11dDH4Gz",
        "outputId": "b95a911e-b5d9-43c9-d8d5-2dfe27ec2bbd"
      },
      "source": [
        "MultiBDPoison.append(Multimodel_for_pruning.evaluate(Multixp,Multiyp)[1])"
      ],
      "execution_count": 67,
      "outputs": [
        {
          "output_type": "stream",
          "text": [
            "321/321 [==============================] - 1s 3ms/step - loss: 2.9054 - accuracy: 0.7583\n"
          ],
          "name": "stdout"
        }
      ]
    },
    {
      "cell_type": "markdown",
      "metadata": {
        "id": "n79odCQ5H4Gz"
      },
      "source": [
        "Clean Test Data"
      ]
    },
    {
      "cell_type": "code",
      "metadata": {
        "colab": {
          "base_uri": "https://localhost:8080/"
        },
        "id": "tL2UOstFH4Gz",
        "outputId": "50b0f90b-1e7b-418f-e566-2d0ee97f5dde"
      },
      "source": [
        "np.argmax(Multimodel_for_pruning.predict(X_test),axis=1)"
      ],
      "execution_count": 68,
      "outputs": [
        {
          "output_type": "execute_result",
          "data": {
            "text/plain": [
              "array([950, 992, 823, ..., 770, 304, 872])"
            ]
          },
          "metadata": {
            "tags": []
          },
          "execution_count": 68
        }
      ]
    },
    {
      "cell_type": "code",
      "metadata": {
        "colab": {
          "base_uri": "https://localhost:8080/"
        },
        "id": "3cML75vQH4G0",
        "outputId": "f5ed6fd8-85d3-42dc-c715-8e9f5e4db483"
      },
      "source": [
        "MultiBDClean.append(Multimodel_for_pruning.evaluate(X_test,Y_test)[1])"
      ],
      "execution_count": 69,
      "outputs": [
        {
          "output_type": "stream",
          "text": [
            "401/401 [==============================] - 1s 3ms/step - loss: 0.2076 - accuracy: 0.9630\n"
          ],
          "name": "stdout"
        }
      ]
    },
    {
      "cell_type": "markdown",
      "metadata": {
        "id": "bI6_ujENH4G0"
      },
      "source": [
        "## Reconstruct model by adding layer"
      ]
    },
    {
      "cell_type": "markdown",
      "metadata": {
        "id": "OS3lCbjBH4G0"
      },
      "source": [
        "N+1 Classes"
      ]
    },
    {
      "cell_type": "code",
      "metadata": {
        "colab": {
          "base_uri": "https://localhost:8080/"
        },
        "id": "yG8fIesaH4G0",
        "outputId": "21d4f674-e73a-48b9-c6fa-ddfa0fe03d5c"
      },
      "source": [
        "from keras import Sequential\r\n",
        "from keras.layers import  Dense\r\n",
        "from keras.models import Model\r\n",
        "\r\n",
        "Multimodel2= Model(inputs=Multimodel_for_pruning.input, outputs=Multimodel_for_pruning.layers[-2].output)\r\n",
        "# model2.summary()\r\n",
        "Multimodel3 = Sequential()\r\n",
        "Multimodel3.add(model2)\r\n",
        "Multimodel3.add(Dense(1284, activation='softmax'))\r\n",
        "Multimodel3.compile(loss=tf.keras.losses.SparseCategoricalCrossentropy(),\r\n",
        "                  optimizer=Adam(), metrics=['accuracy'])\r\n",
        "Multimodel3.summary()"
      ],
      "execution_count": 70,
      "outputs": [
        {
          "output_type": "stream",
          "text": [
            "Model: \"sequential_2\"\n",
            "_________________________________________________________________\n",
            "Layer (type)                 Output Shape              Param #   \n",
            "=================================================================\n",
            "model_1 (Functional)         (None, 160)               789659    \n",
            "_________________________________________________________________\n",
            "dense_2 (Dense)              (None, 1284)              206724    \n",
            "=================================================================\n",
            "Total params: 996,383\n",
            "Trainable params: 601,804\n",
            "Non-trainable params: 394,579\n",
            "_________________________________________________________________\n"
          ],
          "name": "stdout"
        }
      ]
    },
    {
      "cell_type": "markdown",
      "metadata": {
        "id": "vOzQ8KkTH4G0"
      },
      "source": [
        "Train by clean_validation data"
      ]
    },
    {
      "cell_type": "code",
      "metadata": {
        "colab": {
          "base_uri": "https://localhost:8080/"
        },
        "id": "OJobRFqkH4G1",
        "outputId": "6d67eca8-9abe-4acc-90a5-34c3cd9a5d56"
      },
      "source": [
        "# yp1=yp\r\n",
        "# Combined_X=np.append(x,xp[1:100],axis=0)\r\n",
        "# yp1[0:yp.size]=1283\r\n",
        "# Combined_Y=np.append(y,yp1[1:100])\r\n",
        "# Combined_Y.size\r\n",
        "# indices=np.arange(Combined_X.shape[0])\r\n",
        "# np.random.shuffle(indices)\r\n",
        "# Combined_X=Combined_X[indices]\r\n",
        "# Combined_Y=Combined_Y[indices]\r\n",
        "# model3.compile(loss=tf.keras.losses.SparseCategoricalCrossentropy(),\r\n",
        "#                   optimizer=Adam(), metrics=['accuracy'])\r\n",
        "# X_ptrain, X_ptest, Y_ptrain, Y_ptest = train_test_split(\r\n",
        "#         Combined_X, Combined_Y, test_size=0.2, random_state=2)\r\n",
        "# model3.fit(\r\n",
        "#   X_train,\r\n",
        "#   Y_train,\r\n",
        "#   epochs=10,\r\n",
        "#   validation_split=0.2,\r\n",
        "#   batch_size = 20\r\n",
        "# )\r\n",
        "\r\n",
        "Multimodel3.fit(X_train, Y_train,\r\n",
        "                 batch_size=batch_size, epochs=10, validation_split=validation_split,\r\n",
        "                 callbacks=callbacks)\r\n"
      ],
      "execution_count": 71,
      "outputs": [
        {
          "output_type": "stream",
          "text": [
            "Epoch 1/10\n",
            " 6/82 [=>............................] - ETA: 5s - loss: 15.3384 - accuracy: 0.0000e+00 WARNING:tensorflow:Callback method `on_train_batch_end` is slow compared to the batch time (batch time: 0.0128s vs `on_train_batch_end` time: 0.0442s). Check your callbacks.\n",
            "82/82 [==============================] - 5s 29ms/step - loss: 9.0648 - accuracy: 0.0031 - val_loss: 6.9832 - val_accuracy: 0.0130\n",
            "Epoch 2/10\n",
            "82/82 [==============================] - 2s 24ms/step - loss: 6.5732 - accuracy: 0.0351 - val_loss: 5.5885 - val_accuracy: 0.1160\n",
            "Epoch 3/10\n",
            "82/82 [==============================] - 2s 20ms/step - loss: 4.2482 - accuracy: 0.2593 - val_loss: 3.6996 - val_accuracy: 0.4208\n",
            "Epoch 4/10\n",
            "82/82 [==============================] - 2s 20ms/step - loss: 1.8468 - accuracy: 0.6357 - val_loss: 2.8658 - val_accuracy: 0.6017\n",
            "Epoch 5/10\n",
            "82/82 [==============================] - 2s 20ms/step - loss: 0.7809 - accuracy: 0.8327 - val_loss: 2.4204 - val_accuracy: 0.6823\n",
            "Epoch 6/10\n",
            "82/82 [==============================] - 2s 20ms/step - loss: 0.3255 - accuracy: 0.9269 - val_loss: 2.4700 - val_accuracy: 0.7290\n",
            "Epoch 7/10\n",
            "82/82 [==============================] - 2s 20ms/step - loss: 0.1133 - accuracy: 0.9767 - val_loss: 2.6528 - val_accuracy: 0.7532\n",
            "Epoch 8/10\n",
            "82/82 [==============================] - 2s 20ms/step - loss: 0.0400 - accuracy: 0.9921 - val_loss: 2.7434 - val_accuracy: 0.7645\n",
            "Epoch 9/10\n",
            "82/82 [==============================] - 2s 21ms/step - loss: 0.0119 - accuracy: 0.9980 - val_loss: 2.8178 - val_accuracy: 0.7758\n",
            "Epoch 10/10\n",
            "82/82 [==============================] - 2s 20ms/step - loss: 0.0125 - accuracy: 0.9981 - val_loss: 2.8967 - val_accuracy: 0.7784\n"
          ],
          "name": "stdout"
        },
        {
          "output_type": "execute_result",
          "data": {
            "text/plain": [
              "<tensorflow.python.keras.callbacks.History at 0x7f9a208b34a8>"
            ]
          },
          "metadata": {
            "tags": []
          },
          "execution_count": 71
        }
      ]
    },
    {
      "cell_type": "markdown",
      "metadata": {
        "id": "gqlRWZOEH4G1"
      },
      "source": [
        "## New Model Evaluation "
      ]
    },
    {
      "cell_type": "markdown",
      "metadata": {
        "id": "WSy1kio_H4G1"
      },
      "source": [
        "Clean Test Data"
      ]
    },
    {
      "cell_type": "code",
      "metadata": {
        "colab": {
          "base_uri": "https://localhost:8080/"
        },
        "id": "78WbDEtLH4G1",
        "outputId": "57bf5b39-87f8-4748-b9f8-15a253da75b6"
      },
      "source": [
        "np.argmax(Multimodel3.predict(X_test),axis=1)"
      ],
      "execution_count": 72,
      "outputs": [
        {
          "output_type": "execute_result",
          "data": {
            "text/plain": [
              "array([950, 992, 623, ..., 770, 506, 872])"
            ]
          },
          "metadata": {
            "tags": []
          },
          "execution_count": 72
        }
      ]
    },
    {
      "cell_type": "code",
      "metadata": {
        "colab": {
          "base_uri": "https://localhost:8080/"
        },
        "id": "Oa6ahfc0H4G2",
        "outputId": "adda4785-3c44-4330-d0fe-9b8cac2c5ce1"
      },
      "source": [
        "MultiBDClean.append(Multimodel3.evaluate(X_test,Y_test)[1])"
      ],
      "execution_count": 73,
      "outputs": [
        {
          "output_type": "stream",
          "text": [
            "401/401 [==============================] - 1s 3ms/step - loss: 2.5549 - accuracy: 0.7895\n"
          ],
          "name": "stdout"
        }
      ]
    },
    {
      "cell_type": "markdown",
      "metadata": {
        "id": "9MM_PPSIH4G2"
      },
      "source": [
        "Poison data"
      ]
    },
    {
      "cell_type": "code",
      "metadata": {
        "colab": {
          "base_uri": "https://localhost:8080/"
        },
        "id": "OC7B0wCnH4G2",
        "outputId": "1ace2030-99e1-4200-c18f-6be41e89adeb"
      },
      "source": [
        "np.argmax(Multimodel3.predict(Multixp),axis=1)"
      ],
      "execution_count": 74,
      "outputs": [
        {
          "output_type": "execute_result",
          "data": {
            "text/plain": [
              "array([ 500,  790, 1200, ...,  328,  258,  680])"
            ]
          },
          "metadata": {
            "tags": []
          },
          "execution_count": 74
        }
      ]
    },
    {
      "cell_type": "code",
      "metadata": {
        "colab": {
          "base_uri": "https://localhost:8080/"
        },
        "id": "twwvsvkdH4G2",
        "outputId": "a35de0c1-6c81-4786-a068-8056306d39ce"
      },
      "source": [
        "MultiBDPoison.append(Multimodel3.evaluate(Multixp,Multiyp)[1])"
      ],
      "execution_count": 75,
      "outputs": [
        {
          "output_type": "stream",
          "text": [
            "321/321 [==============================] - 1s 3ms/step - loss: 56.9860 - accuracy: 1.9486e-04\n"
          ],
          "name": "stdout"
        }
      ]
    },
    {
      "cell_type": "markdown",
      "metadata": {
        "id": "Pfe67WdmH4G2"
      },
      "source": [
        "Conclusion : Low Accuracy---it couldn't  predict successfully"
      ]
    },
    {
      "cell_type": "markdown",
      "metadata": {
        "id": "26yAyRrmSyhz"
      },
      "source": [
        "# Analysis"
      ]
    },
    {
      "cell_type": "code",
      "metadata": {
        "colab": {
          "base_uri": "https://localhost:8080/",
          "height": 223
        },
        "id": "fhV4VjuQS6Ak",
        "outputId": "88573d19-fc85-45b1-ede9-45d4720cc21c"
      },
      "source": [
        "import pandas as pd\r\n",
        "data = [SunBDPoison,SunBDClean,AnonyPoison,AnonyClean,MultiBDPoison,MultiBDClean]\r\n",
        "DF = pd.DataFrame(data, columns=[\" BadNet \",\"Pruning\",\" Fine-Pruning  \",\"Reconstruct Model\"])\r\n",
        "DF.index = ['Sunglasses Poison Data','Sunglasses Clean Data','Anonymous Poison Data','Anonymous Clean Data','Multi-Trigger Poison Data','Multi-Trigger Clean Data']\r\n",
        "DF"
      ],
      "execution_count": 133,
      "outputs": [
        {
          "output_type": "execute_result",
          "data": {
            "text/html": [
              "<div>\n",
              "<style scoped>\n",
              "    .dataframe tbody tr th:only-of-type {\n",
              "        vertical-align: middle;\n",
              "    }\n",
              "\n",
              "    .dataframe tbody tr th {\n",
              "        vertical-align: top;\n",
              "    }\n",
              "\n",
              "    .dataframe thead th {\n",
              "        text-align: right;\n",
              "    }\n",
              "</style>\n",
              "<table border=\"1\" class=\"dataframe\">\n",
              "  <thead>\n",
              "    <tr style=\"text-align: right;\">\n",
              "      <th></th>\n",
              "      <th>BadNet</th>\n",
              "      <th>Pruning</th>\n",
              "      <th>Fine-Pruning</th>\n",
              "      <th>Reconstruct Model</th>\n",
              "    </tr>\n",
              "  </thead>\n",
              "  <tbody>\n",
              "    <tr>\n",
              "      <th>Sunglasses Poison Data</th>\n",
              "      <td>0.999922</td>\n",
              "      <td>0.999922</td>\n",
              "      <td>0.505534</td>\n",
              "      <td>0.000078</td>\n",
              "    </tr>\n",
              "    <tr>\n",
              "      <th>Sunglasses Clean Data</th>\n",
              "      <td>0.977786</td>\n",
              "      <td>0.977786</td>\n",
              "      <td>0.897038</td>\n",
              "      <td>0.743804</td>\n",
              "    </tr>\n",
              "    <tr>\n",
              "      <th>Anonymous Poison Data</th>\n",
              "      <td>0.913484</td>\n",
              "      <td>0.913484</td>\n",
              "      <td>0.776500</td>\n",
              "      <td>0.000097</td>\n",
              "    </tr>\n",
              "    <tr>\n",
              "      <th>Anonymous Clean Data</th>\n",
              "      <td>0.960094</td>\n",
              "      <td>0.960094</td>\n",
              "      <td>0.964614</td>\n",
              "      <td>0.791738</td>\n",
              "    </tr>\n",
              "    <tr>\n",
              "      <th>Multi-Trigger Poison Data</th>\n",
              "      <td>0.913484</td>\n",
              "      <td>0.000000</td>\n",
              "      <td>0.758281</td>\n",
              "      <td>0.000195</td>\n",
              "    </tr>\n",
              "    <tr>\n",
              "      <th>Multi-Trigger Clean Data</th>\n",
              "      <td>0.960094</td>\n",
              "      <td>0.960094</td>\n",
              "      <td>0.962977</td>\n",
              "      <td>0.789478</td>\n",
              "    </tr>\n",
              "  </tbody>\n",
              "</table>\n",
              "</div>"
            ],
            "text/plain": [
              "                            BadNet   ...  Reconstruct Model\n",
              "Sunglasses Poison Data     0.999922  ...           0.000078\n",
              "Sunglasses Clean Data      0.977786  ...           0.743804\n",
              "Anonymous Poison Data      0.913484  ...           0.000097\n",
              "Anonymous Clean Data       0.960094  ...           0.791738\n",
              "Multi-Trigger Poison Data  0.913484  ...           0.000195\n",
              "Multi-Trigger Clean Data   0.960094  ...           0.789478\n",
              "\n",
              "[6 rows x 4 columns]"
            ]
          },
          "metadata": {
            "tags": []
          },
          "execution_count": 133
        }
      ]
    }
  ]
}